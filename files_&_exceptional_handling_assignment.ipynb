{
  "nbformat": 4,
  "nbformat_minor": 0,
  "metadata": {
    "colab": {
      "provenance": []
    },
    "kernelspec": {
      "name": "python3",
      "display_name": "Python 3"
    },
    "language_info": {
      "name": "python"
    }
  },
  "cells": [
    {
      "cell_type": "code",
      "source": [
        "#Question1- How can you open a file for writing in Python and write a string to it?\n",
        "# Open a file for writing (creates the file if it doesn't exist)\n",
        "with open(\"example.txt\", \"w\") as file:\n",
        "    file.write(\"Hello, world!\")\n",
        "\n",
        "print(\"String written to file successfully.\")\n",
        "with open(\"example.txt\", \"a\") as file:\n",
        "    file.write(\"\\nAppended text.\")"
      ],
      "metadata": {
        "colab": {
          "base_uri": "https://localhost:8080/"
        },
        "id": "ajC0ujVKEt2t",
        "outputId": "f23c422f-36c5-44b4-a55a-163a4f9f2e2d"
      },
      "execution_count": null,
      "outputs": [
        {
          "output_type": "stream",
          "name": "stdout",
          "text": [
            "String written to file successfully.\n"
          ]
        }
      ]
    },
    {
      "cell_type": "code",
      "execution_count": null,
      "metadata": {
        "id": "YFyMklmTWMIX",
        "colab": {
          "base_uri": "https://localhost:8080/"
        },
        "outputId": "0a07c512-f4f0-46f1-eb10-9b60ff0d3457"
      },
      "outputs": [
        {
          "output_type": "stream",
          "name": "stdout",
          "text": [
            "Hello, world!\n",
            "Appended text.\n",
            "Hello, world!\n",
            "Appended text.\n"
          ]
        }
      ],
      "source": [
        "#Question2- Write a Python program to read the contents of a file and print each line.\n",
        "# Open the file for reading\n",
        "with open(\"example.txt\", \"r\") as file:\n",
        "    # Read and print each line\n",
        "    for line in file:\n",
        "        print(line.strip())  # strip() removes any trailing newline characters\n",
        "with open(\"example.txt\", \"r\") as file:\n",
        "    content = file.read()\n",
        "    print(content)"
      ]
    },
    {
      "cell_type": "code",
      "source": [
        "#Question3- How would you handle a case where the file doesn't exist while trying to open it for reading?\n",
        "try:\n",
        "    with open(\"example.txt\", \"r\") as file:\n",
        "        for line in file:\n",
        "            print(line.strip())\n",
        "except FileNotFoundError:\n",
        "    print(\"Error: The file does not exist.\")"
      ],
      "metadata": {
        "colab": {
          "base_uri": "https://localhost:8080/"
        },
        "id": "j7ZgHKsHE60y",
        "outputId": "cc407ad4-b4fc-46ac-8f5c-c517f69d3ffe"
      },
      "execution_count": null,
      "outputs": [
        {
          "output_type": "stream",
          "name": "stdout",
          "text": [
            "Hello, world!\n",
            "Appended text.\n"
          ]
        }
      ]
    },
    {
      "cell_type": "code",
      "source": [
        "#Question4- Write a Python script that reads from one file and writes its content to another file.\n",
        "try:\n",
        "    with open(\"source.txt\", \"r\") as source, open(\"destination.txt\", \"w\") as destination:\n",
        "        for line in source:\n",
        "            destination.write(line)  # Write each line to the destination file\n",
        "\n",
        "    print(\"File copied successfully!\")\n",
        "except FileNotFoundError:\n",
        "    print(\"Error: source.txt not found.\")\n",
        "except Exception as e:\n",
        "    print(f\"An error occurred: {e}\")"
      ],
      "metadata": {
        "colab": {
          "base_uri": "https://localhost:8080/"
        },
        "id": "Kju2v-1OE94n",
        "outputId": "bb019226-da04-4d39-d467-a9e146ac6434"
      },
      "execution_count": null,
      "outputs": [
        {
          "output_type": "stream",
          "name": "stdout",
          "text": [
            "Error: source.txt not found.\n"
          ]
        }
      ]
    },
    {
      "cell_type": "code",
      "source": [
        "#Question5- How would you catch and handle division by zero error in Python?\n",
        "try:\n",
        "    numerator = int(input(\"Enter numerator: \"))\n",
        "    denominator = int(input(\"Enter denominator: \"))\n",
        "    result = numerator / denominator\n",
        "    print(\"Result:\", result)\n",
        "except ZeroDivisionError:\n",
        "    print(\"Error: Division by zero is not allowed.\")\n",
        "except ValueError:\n",
        "    print(\"Error: Please enter valid numbers.\")"
      ],
      "metadata": {
        "colab": {
          "base_uri": "https://localhost:8080/"
        },
        "id": "67aaWad4FE1p",
        "outputId": "dbdcdd1f-d6ef-4e8a-d2bb-ce0c80f0c312"
      },
      "execution_count": null,
      "outputs": [
        {
          "output_type": "stream",
          "name": "stdout",
          "text": [
            "Enter numerator: 2\n",
            "Enter denominator: 6\n",
            "Result: 0.3333333333333333\n"
          ]
        }
      ]
    },
    {
      "cell_type": "code",
      "source": [
        "#Question6- Write a Python program that logs an error message to a log file when a division by zero exception occurs.\n",
        "import logging\n",
        "\n",
        "logging.basicConfig(filename='error_log.txt', level=logging.ERROR)\n",
        "\n",
        "try:\n",
        "    result = 10 / 0\n",
        "except ZeroDivisionError:\n",
        "    logging.error('Division by zero error occurred')"
      ],
      "metadata": {
        "colab": {
          "base_uri": "https://localhost:8080/"
        },
        "id": "TxBvxBZ2FK9R",
        "outputId": "47cc2ff4-a581-482f-b22d-dfdc17a97e0c"
      },
      "execution_count": null,
      "outputs": [
        {
          "output_type": "stream",
          "name": "stderr",
          "text": [
            "ERROR:root:Division by zero error occurred\n"
          ]
        }
      ]
    },
    {
      "cell_type": "code",
      "source": [
        "#Question7-How do you log information at different levels (INFO, ERROR, WARNING) in Python using the logging module?\n",
        "import logging\n",
        "\n",
        "# Configure logging\n",
        "logging.basicConfig(\n",
        "    filename=\"app.log\",  # Log file name\n",
        "    level=logging.DEBUG,  # Set minimum logging level\n",
        "    format=\"%(asctime)s - %(levelname)s - %(message)s\"\n",
        ")\n",
        "\n",
        "# Log messages at different levels\n",
        "logging.debug(\"This is a DEBUG message.\")\n",
        "logging.info(\"This is an INFO message.\")\n",
        "logging.warning(\"This is a WARNING message.\")\n",
        "logging.error(\"This is an ERROR message.\")\n",
        "logging.critical(\"This is a CRITICAL message.\")\n",
        "\n",
        "print(\"Log messages have been written to app.log.\")"
      ],
      "metadata": {
        "colab": {
          "base_uri": "https://localhost:8080/"
        },
        "id": "ymzz6fCYFO1T",
        "outputId": "b2a39af6-e0c2-43a9-d3ba-69f0dbea288b"
      },
      "execution_count": null,
      "outputs": [
        {
          "output_type": "stream",
          "name": "stderr",
          "text": [
            "WARNING:root:This is a WARNING message.\n",
            "ERROR:root:This is an ERROR message.\n",
            "CRITICAL:root:This is a CRITICAL message.\n"
          ]
        },
        {
          "output_type": "stream",
          "name": "stdout",
          "text": [
            "Log messages have been written to app.log.\n"
          ]
        }
      ]
    },
    {
      "cell_type": "code",
      "source": [
        "#Question8- Write a program to handle a file opening error using exception handling.\n",
        "try:\n",
        "    with open(\"nonexistent_file.txt\", \"r\") as file:\n",
        "        content = file.read()\n",
        "except FileNotFoundError:\n",
        "    print(\"Error: The file does not exist.\")"
      ],
      "metadata": {
        "colab": {
          "base_uri": "https://localhost:8080/"
        },
        "id": "fMqkv_zaFSKl",
        "outputId": "e4757f80-d5c0-4db7-a2c3-dd73b13f675b"
      },
      "execution_count": null,
      "outputs": [
        {
          "output_type": "stream",
          "name": "stdout",
          "text": [
            "Error: The file does not exist.\n"
          ]
        }
      ]
    },
    {
      "cell_type": "code",
      "source": [
        "#Question9- How can you read a file line by line and store its content in a list in Python?\n",
        "try:\n",
        "    with open(\"example.txt\", \"r\") as file:\n",
        "        lines = file.readlines()\n",
        "        for line in lines:\n",
        "            print(line.strip())\n",
        "except FileNotFoundError:\n",
        "    print(\"Error: The file does not exist.\")"
      ],
      "metadata": {
        "colab": {
          "base_uri": "https://localhost:8080/"
        },
        "id": "yAphoz49FdKb",
        "outputId": "c93e3e62-7178-4b66-fc15-54879e5e6368"
      },
      "execution_count": null,
      "outputs": [
        {
          "output_type": "stream",
          "name": "stdout",
          "text": [
            "Hello, world!\n",
            "Appended text.\n"
          ]
        }
      ]
    },
    {
      "cell_type": "code",
      "source": [
        "#Question10- How can you append data to an existing file in Python?\n",
        "# Open the file in append mode\n",
        "with open(\"example.txt\", \"a\") as file:\n",
        "    file.write(\"\\nThis is a new line appended to the file.\")\n",
        "\n",
        "print(\"Data appended successfully!\")\n"
      ],
      "metadata": {
        "colab": {
          "base_uri": "https://localhost:8080/"
        },
        "id": "NR9mUVYkFgKC",
        "outputId": "d7b7d9be-42be-4e6d-8d05-e745bd501e36"
      },
      "execution_count": null,
      "outputs": [
        {
          "output_type": "stream",
          "name": "stdout",
          "text": [
            "Data appended successfully!\n"
          ]
        }
      ]
    },
    {
      "cell_type": "code",
      "source": [
        "#Question11- Write a Python program that uses a try-except block to handle an error when attempting to access a dictionary key that doesn't exist.\n",
        "# Sample dictionary\n",
        "student_scores = {\n",
        "    \"Asifa\": 85,\n",
        "    \"Praj\": 90,\n",
        "    \"Shivani\": 78\n",
        "}\n",
        "\n",
        "try:\n",
        "    name = input(\"Enter the student's name: \")\n",
        "    score = student_scores[name]  # Attempt to access the key\n",
        "    print(f\"{name}'s score is: {score}\")\n",
        "except KeyError:\n",
        "    print(f\"Error: '{name}' not found in the dictionary.\")\n"
      ],
      "metadata": {
        "colab": {
          "base_uri": "https://localhost:8080/"
        },
        "id": "JXVy0zN_FiuC",
        "outputId": "bd4aa12c-6a04-4140-9e26-8b1f4ece133a"
      },
      "execution_count": null,
      "outputs": [
        {
          "output_type": "stream",
          "name": "stdout",
          "text": [
            "Enter the student's name: Ashi\n",
            "Error: 'Ashi' not found in the dictionary.\n"
          ]
        }
      ]
    },
    {
      "cell_type": "code",
      "source": [
        "#Question12- Write a program that demonstrates using multiple except blocks to handle different types of exceptions.\n",
        "try:\n",
        "    # Input from the user\n",
        "    numerator = int(input(\"Enter numerator: \"))\n",
        "    denominator = int(input(\"Enter denominator: \"))\n",
        "\n",
        "    # Division operation that may cause errors\n",
        "    result = numerator / denominator\n",
        "    print(f\"The result of {numerator} / {denominator} is: {result}\")\n",
        "\n",
        "except ZeroDivisionError:\n",
        "    print(\"Error: Division by zero is not allowed.\")\n",
        "\n",
        "except ValueError:\n",
        "    print(\"Error: Please enter valid numbers.\")\n",
        "\n",
        "except Exception as e:\n",
        "    print(f\"An unexpected error occurred: {e}\")"
      ],
      "metadata": {
        "colab": {
          "base_uri": "https://localhost:8080/"
        },
        "id": "N5zKxu6zFrji",
        "outputId": "5c9a95b5-f4ac-492e-b3ba-6bd67ac4809e"
      },
      "execution_count": null,
      "outputs": [
        {
          "output_type": "stream",
          "name": "stdout",
          "text": [
            "Enter numerator: 8\n",
            "Enter denominator: 0\n",
            "Error: Division by zero is not allowed.\n"
          ]
        }
      ]
    },
    {
      "cell_type": "code",
      "source": [
        "#Question13- How would you check if a file exists before attempting to read it in Python?\n",
        "import os\n",
        "\n",
        "filename = \"example.txt\"\n",
        "\n",
        "# Check if the file exists\n",
        "if os.path.exists(filename):\n",
        "    with open(filename, \"r\") as file:\n",
        "        content = file.read()\n",
        "        print(content)\n",
        "else:\n",
        "    print(f\"Error: The file '{filename}' does not exist.\")"
      ],
      "metadata": {
        "colab": {
          "base_uri": "https://localhost:8080/"
        },
        "id": "W7kyXBUMFwkq",
        "outputId": "bee0a279-337f-49e2-c414-a6f849b68f3c"
      },
      "execution_count": null,
      "outputs": [
        {
          "output_type": "stream",
          "name": "stdout",
          "text": [
            "Hello, world!\n",
            "Appended text.\n",
            "This is a new line appended to the file.\n"
          ]
        }
      ]
    },
    {
      "cell_type": "code",
      "source": [
        "#Question14- Write a program that uses the logging module to log both informational and error messages.\n",
        "import os\n",
        "\n",
        "filename = \"example.txt\"\n",
        "\n",
        "# Check if the file exists\n",
        "if os.path.exists(filename):\n",
        "    with open(filename, \"r\") as file:\n",
        "        content = file.read()\n",
        "        print(content)\n",
        "else:\n",
        "    print(f\"Error: The file '{filename}' does not exist.\")\n"
      ],
      "metadata": {
        "colab": {
          "base_uri": "https://localhost:8080/"
        },
        "id": "O3b9rktlF0mh",
        "outputId": "92a9f4df-b0a6-4c10-ffa8-507818502d09"
      },
      "execution_count": null,
      "outputs": [
        {
          "output_type": "stream",
          "name": "stdout",
          "text": [
            "Hello, world!\n",
            "Appended text.\n",
            "This is a new line appended to the file.\n"
          ]
        }
      ]
    },
    {
      "cell_type": "code",
      "source": [
        "#Question15- Write a Python program that prints the content of a file and handles the case when the file is empty\n",
        "def print_file_content(file_name):\n",
        "    try:\n",
        "        with open(file_name, 'r') as file:\n",
        "            content = file.read()\n",
        "            if content:  # Check if the file has content\n",
        "                print(content)\n",
        "            else:\n",
        "                print(\"The file is empty.\")\n",
        "    except FileNotFoundError:\n",
        "        print(f\"The file {file_name} does not exist.\")\n",
        "    except Exception as e:\n",
        "        print(f\"An error occurred: {e}\")\n",
        "\n",
        "# Example usage\n",
        "file_name = \"example.txt\"\n",
        "print_file_content(file_name)"
      ],
      "metadata": {
        "colab": {
          "base_uri": "https://localhost:8080/"
        },
        "id": "3zY5CRn7F6Mr",
        "outputId": "482fdc6d-f1e8-452a-c276-1797437fab14"
      },
      "execution_count": null,
      "outputs": [
        {
          "output_type": "stream",
          "name": "stdout",
          "text": [
            "Hello, world!\n",
            "Appended text.\n",
            "This is a new line appended to the file.\n"
          ]
        }
      ]
    },
    {
      "cell_type": "code",
      "source": [
        "#Question16- Demonstrate how to use memory profiling to check the memory usage of a small program\n",
        "from memory_profiler import profile\n",
        "\n",
        "@profile\n",
        "def my_program():\n",
        "    a = [i for i in range(10000)]  # Create a list of integers\n",
        "    b = [i * 2 for i in range(10000)]  # Create another list with doubled values\n",
        "    c = [x + y for x, y in zip(a, b)]  # Add corresponding elements of the lists\n",
        "    return c\n",
        "\n",
        "if __name__ == \"__main__\":\n",
        "    my_program()\n",
        "python -m memory_profiler memory_example.py"
      ],
      "metadata": {
        "colab": {
          "base_uri": "https://localhost:8080/",
          "height": 108
        },
        "id": "SsU5fnPmF9II",
        "outputId": "f7ead0f2-554a-451a-e013-6f42d04a4c13"
      },
      "execution_count": null,
      "outputs": [
        {
          "output_type": "error",
          "ename": "SyntaxError",
          "evalue": "invalid syntax (<ipython-input-17-ff0247dcb1ee>, line 13)",
          "traceback": [
            "\u001b[0;36m  File \u001b[0;32m\"<ipython-input-17-ff0247dcb1ee>\"\u001b[0;36m, line \u001b[0;32m13\u001b[0m\n\u001b[0;31m    python -m memory_profiler memory_example.py\u001b[0m\n\u001b[0m              ^\u001b[0m\n\u001b[0;31mSyntaxError\u001b[0m\u001b[0;31m:\u001b[0m invalid syntax\n"
          ]
        }
      ]
    },
    {
      "cell_type": "code",
      "source": [
        "#Question17- Write a Python program to create and write a list of numbers to a file, one number per line.\n",
        "def write_numbers_to_file(file_name, numbers):\n",
        "    try:\n",
        "        with open(file_name, 'w') as file:\n",
        "            for number in numbers:\n",
        "                file.write(f\"{number}\\n\")  # Write each number on a new line\n",
        "        print(f\"Numbers successfully written to {file_name}\")\n",
        "    except Exception as e:\n",
        "        print(f\"An error occurred: {e}\")\n",
        "\n",
        "# Example usage\n",
        "numbers_list = [1, 2, 3, 4, 5, 6, 7, 8, 9, 10]\n",
        "file_name = \"numbers.txt\"\n",
        "write_numbers_to_file(file_name, numbers_list)\n",
        "print(numbers_list)\n"
      ],
      "metadata": {
        "colab": {
          "base_uri": "https://localhost:8080/"
        },
        "id": "kV0-pZRuGDoz",
        "outputId": "a9ab2321-ab9d-46f1-f55c-0456b5493c32"
      },
      "execution_count": null,
      "outputs": [
        {
          "output_type": "stream",
          "name": "stdout",
          "text": [
            "Numbers successfully written to numbers.txt\n",
            "[1, 2, 3, 4, 5, 6, 7, 8, 9, 10]\n"
          ]
        }
      ]
    },
    {
      "cell_type": "code",
      "source": [
        "#Question18- How would you implement a basic logging setup that logs to a file with rotation after IMB?\n",
        "import logging\n",
        "from logging.handlers import RotatingFileHandler\n",
        "\n",
        "# Create a logger\n",
        "logger = logging.getLogger('my_logger')\n",
        "logger.setLevel(logging.INFO)  # Set the logging level\n",
        "\n",
        "# Create a rotating file handler that will log to 'app.log' and rotate after 1MB\n",
        "handler = RotatingFileHandler('app.log', maxBytes=1e6, backupCount=3)  # 1MB = 1e6 bytes\n",
        "handler.setLevel(logging.INFO)\n",
        "\n",
        "# Create a formatter and attach it to the handler\n",
        "formatter = logging.Formatter('%(asctime)s - %(levelname)s - %(message)s')\n",
        "handler.setFormatter(formatter)\n",
        "\n",
        "# Add the handler to the logger\n",
        "logger.addHandler(handler)\n",
        "\n",
        "# Example logging\n",
        "logger.info(\"This is an info message\")\n",
        "logger.error(\"This is an error message\")"
      ],
      "metadata": {
        "colab": {
          "base_uri": "https://localhost:8080/"
        },
        "id": "FxNk-Gv-GHcw",
        "outputId": "bc1242e6-0dc0-48ee-b1d0-b30329a2a957"
      },
      "execution_count": null,
      "outputs": [
        {
          "output_type": "stream",
          "name": "stderr",
          "text": [
            "INFO:my_logger:This is an info message\n",
            "ERROR:my_logger:This is an error message\n"
          ]
        }
      ]
    },
    {
      "cell_type": "code",
      "source": [
        "#Question19- Write a program that handles both indexError and KeyError using a try-except block.\n",
        "def handle_errors():\n",
        "    my_list = [1, 2, 3]\n",
        "    my_dict = {'a': 1, 'b': 2, 'c': 3}\n",
        "\n",
        "    try:\n",
        "        # Attempting to access an invalid index in the list\n",
        "        print(my_list[5])\n",
        "\n",
        "        # Attempting to access a key that doesn't exist in the dictionary\n",
        "        print(my_dict['d'])\n",
        "\n",
        "    except IndexError as ie:\n",
        "        print(f\"IndexError occurred: {ie}\")\n",
        "\n",
        "    except KeyError as ke:\n",
        "        print(f\"KeyError occurred: {ke}\")\n",
        "\n",
        "# Call the function to test error handling\n",
        "handle_errors()"
      ],
      "metadata": {
        "colab": {
          "base_uri": "https://localhost:8080/"
        },
        "id": "H20x3bUBGKOK",
        "outputId": "aee327d8-0372-43a1-9239-8f7f07d72a19"
      },
      "execution_count": null,
      "outputs": [
        {
          "output_type": "stream",
          "name": "stdout",
          "text": [
            "IndexError occurred: list index out of range\n"
          ]
        }
      ]
    },
    {
      "cell_type": "code",
      "source": [
        "#Question20- How would you open a file and read its contents using a context manager in Python?\n",
        "# Using context manager to open and read a file\n",
        "file_path = '/content/numbers.txt'  # Replace with your file path\n",
        "\n",
        "with open(file_path, 'r') as file:\n",
        "    content = file.read()\n",
        "    print(content)"
      ],
      "metadata": {
        "colab": {
          "base_uri": "https://localhost:8080/"
        },
        "id": "RxBruMRNGMyc",
        "outputId": "e7db86bc-0b29-479d-e5c1-e7563ec9e0b1"
      },
      "execution_count": null,
      "outputs": [
        {
          "output_type": "stream",
          "name": "stdout",
          "text": [
            "1\n",
            "2\n",
            "3\n",
            "4\n",
            "5\n",
            "6\n",
            "7\n",
            "8\n",
            "9\n",
            "10\n",
            "\n"
          ]
        }
      ]
    },
    {
      "cell_type": "code",
      "source": [
        "#Question21- Write a Python program that reads a file and prints the number of occurrences of a specific word\n",
        "def count_word_occurrences(file_path, word_to_count):\n",
        "    try:\n",
        "        with open(file_path, 'r') as file:\n",
        "            content = file.read()\n",
        "            word_count = content.lower().split().count(word_to_count.lower())  # Case-insensitive\n",
        "            print(f\"The word '{word_to_count}' appears {word_count} times.\")\n",
        "    except FileNotFoundError:\n",
        "        print(f\"The file at {file_path} was not found.\")\n",
        "    except Exception as e:\n",
        "        print(f\"An error occurred: {e}\")\n",
        "\n",
        "# Example usage\n",
        "file_path = '/content/python_count'  # Replace with your file path\n",
        "word_to_count = 'python'  # Replace with the word you want to count\n",
        "count_word_occurrences(file_path, word_to_count)"
      ],
      "metadata": {
        "colab": {
          "base_uri": "https://localhost:8080/"
        },
        "id": "Mhhb14ZUG3PS",
        "outputId": "6f8672b2-cb84-4851-cb6d-3137b62ffd39"
      },
      "execution_count": null,
      "outputs": [
        {
          "output_type": "stream",
          "name": "stdout",
          "text": [
            "The word 'python' appears 4 times.\n"
          ]
        }
      ]
    },
    {
      "cell_type": "code",
      "source": [
        "#Question22- How can you check if a file is empty before attempting to read its contents?\n",
        "def read_file_if_not_empty(file_path):\n",
        "    with open(file_path, 'r') as file:\n",
        "        content = file.read()\n",
        "        if not content:  # Checks if the content is empty\n",
        "            print(f\"The file '{file_path}' is empty.\")\n",
        "        else:\n",
        "            print(content)\n",
        "\n",
        "file_path = '/content/python_count'  # Replace with your file path\n",
        "read_file_if_not_empty(file_path)"
      ],
      "metadata": {
        "colab": {
          "base_uri": "https://localhost:8080/"
        },
        "id": "eolULImyHPkc",
        "outputId": "44d15303-ea7f-4610-d620-60dfc3a34107"
      },
      "execution_count": null,
      "outputs": [
        {
          "output_type": "stream",
          "name": "stdout",
          "text": [
            "python\n",
            "python\n",
            "python\n",
            "python\n"
          ]
        }
      ]
    },
    {
      "cell_type": "code",
      "source": [
        "#Question23- Write a Python program that writes to a log file when an error occurs during file handling\n",
        "import logging\n",
        "\n",
        "# Configure the logger to write to a log file\n",
        "logging.basicConfig(filename='error_log', level=logging.ERROR,\n",
        "                    format='%(asctime)s - %(levelname)s - %(message)s')\n",
        "\n",
        "def write_to_file(file_path, content):\n",
        "    try:\n",
        "        with open(file_path, 'w') as file:\n",
        "            file.write(content)\n",
        "        print(f\"Content successfully written to {file_path}\")\n",
        "    except Exception as e:\n",
        "        logging.error(f\"Error writing to file {file_path}: {e}\")\n",
        "        print(f\"An error occurred. Check 'error_log' for details.\")\n",
        "\n",
        "def read_from_file(file_path):\n",
        "    try:\n",
        "        with open(file_path, 'r') as file:\n",
        "            content = file.read()\n",
        "        print(f\"Content from {file_path}: \\n{content}\")\n",
        "    except Exception as e:\n",
        "        logging.error(f\"Error reading from file {file_path}: {e}\")\n",
        "        print(f\"An error occurred. Check 'error_log' for details.\")\n",
        "\n",
        "# Example usage\n",
        "file_path = '/content/numbers_list.txt'  # Replace with your file path\n",
        "content = \"This is an example content.\"  # Content to write\n",
        "\n",
        "# Writing to file\n",
        "write_to_file(file_path, content)\n",
        "\n",
        "# Reading from file\n",
        "read_from_file(file_path)"
      ],
      "metadata": {
        "colab": {
          "base_uri": "https://localhost:8080/"
        },
        "id": "DlkTP-VXHYXZ",
        "outputId": "d20c00cb-1e61-467b-afcd-699e63f3f60b"
      },
      "execution_count": null,
      "outputs": [
        {
          "output_type": "stream",
          "name": "stdout",
          "text": [
            "Content successfully written to /content/numbers_list.txt\n",
            "Content from /content/numbers_list.txt: \n",
            "This is an example content.\n"
          ]
        }
      ]
    },
    {
      "cell_type": "markdown",
      "source": [
        "**Question1**.- What is the difference\n",
        "between interpreted and compiled languages?\n",
        "\n",
        "**Answer**- The primary difference between interpreted and compiled languages lies in how the code is executed by the computer. In essence, compiled languages produce standalone executables that run directly on the system, while interpreted languages are run through an intermediary interpreter.\n",
        "\n",
        "**Question2**-What is exception handling in Python?\n",
        "\n",
        "**Answer**-Exception handling in Python is a mechanism that allows you to manage errors that might occur during the execution of a program. It helps to prevent the program from crashing and enables the developer to respond to different types of errors in a controlled way.\n",
        "\n",
        "**Question3**- What is the purpose of the finally block in exception handling?\n",
        "\n",
        "**Answer**- The finally block in Python exception handling is used to define code that should always execute, regardless of whether an exception was raised or not. Its primary purpose is to perform cleanup operations, such as closing files, releasing resources, or disconnecting from a database.\n",
        "\n",
        "Key Features of the finally Block:\n",
        "Always Executes: Runs whether an exception occurs or not.\n",
        "Used for Cleanup: Helps in resource management (e.g., closing files, releasing locks).\n",
        "Ensures Code Execution: Even if an exception is raised and not handled, the finally block will still run before the program terminates.\n",
        "\n",
        "\n",
        "**Question4**-What is logging in Python?\n",
        "\n",
        "**Answer**- Logging in Python is a built-in module that allows you to track events that happen during program execution. It is used for debugging, monitoring, and recording errors or other significant occurrences in an application.\n",
        "**Why Use Logging Instead of Print?**\n",
        "1) More Control: Logging allows different levels of messages (info, warning, error, etc.).\n",
        "2) Persistence: Logs can be written to files for later analysis.\n",
        "3) Custom Formatting: You can format logs with timestamps and other details.\n",
        "4) Flexible Output: Logs can be sent to files, consoles, or external services.\n",
        "Python’s logging module is powerful, flexible, and a better alternative to print() for debugging and tracking application behavior in production.\n",
        "\n",
        "**Question5**- What is the significance of the _del_ method in Python?\n",
        "\n",
        "**Answer**- The __del__ method in Python is a special method known as the destructor. It is automatically called when an object is about to be destroyed (i.e., when there are no more references to it).\n",
        "\n",
        "Significance of __del__:\n",
        "1) Resource Cleanup: Used to release resources like closing files, network connections, or database connections.\n",
        "2) Automatic Execution: It runs when an object is deleted or goes out of scope.\n",
        "3) Garbage Collection: Python’s garbage collector deletes objects when their reference count drops to zero.\n",
        "\n",
        "\n",
        "**Question6**- What is the difference between import and from ... import in Python?\n",
        "\n",
        "**Answer**- The difference between import and from import in Python is:\n",
        "\n",
        "**import** imports an entire code library.\n",
        "**from import** imports a specific member or members of the library.\n",
        "\n",
        "\n",
        " **Question7**-How can you handle multiple exceptions in Python?\n",
        "\n",
        "**Answer**- In Python, you can handle multiple exceptions in several ways:\n",
        "1)**Using Multiple except Blocks**\n",
        "You can catch different exceptions with separate except blocks\n",
        "2)**Catching Multiple Exceptions in One except Block**\n",
        "Use a tuple to handle multiple exceptions in a single except block\n",
        "3)**Using a Generic except Block**\n",
        "Catch any exception (not recommended unless logging/debugging)\n",
        "4)**Using finally for Cleanup**\n",
        "The finally block always executes, whether an exception occurs or not\n",
        "5)Using 'else' for Code That Runs if No Exception Occurs\n",
        "\n",
        "**Question8**- What is the purpose of the with statement when handling files in Python?\n",
        "\n",
        "**Answer**- Purpose of with when Handling Files\n",
        "1) Automatic Resource Management: It automatically closes the file when the block exits.\n",
        "2)Prevents Resource Leaks: It ensures that the file is closed properly, avoiding memory leaks or file locks.\n",
        "3)Improves Code Readability: It makes the code more concise and readable.\n",
        "\n",
        "\n",
        "**Question9**- What is the difference between multithreading and multiprocessing?\n",
        "\n",
        "\n",
        "**Answer**- Both multithreading and multiprocessing are used to achieve parallel execution, but they differ in how they utilize system resources.\n",
        "**Multiprocessing** is a system that has more than one or two processors. In Multiprocessing, CPUs are added to increase the computing speed of the system. Because of Multiprocessing, There are many processes are executed simultaneously.\n",
        "**Multithreading** is a system in which multiple threads are created of a process for increasing the computing speed of the system. In multithreading, many threads of a process are executed simultaneously and process creation in multithreading is done according to economical.\n",
        "To summerise, Multiprocessing and multithreading are techniques used to improve computing efficiency. Multiprocessing uses multiple CPUs to do multiprocessing while multithreading uses multiple threads within a single process to increase performance of the system.\n",
        "\n",
        "\n",
        "**Question10**-What are the advantages of using logging in a program?\n",
        "\n",
        "**Answer**- Advantages of Using Logging in a Program\n",
        "1) Debugging and Troubleshooting\n",
        "2) Monitoring & Maintenance\n",
        "3) Performance Analysis\n",
        "4) Security & Compliance\n",
        "5) Better Organization\n",
        "6) Persistence & Storage\n",
        "7) Configurable & Flexible\n",
        "\n",
        "\n",
        "**Q11- What is memory management in Python?**\n",
        "\n",
        "Ans-\n",
        "Memory management in Python refers to how the Python interpreter handles memory allocation, storage, and deallocation for the objects used in a program. Python’s memory management system aims to make it easier for developers by automatically handling memory, so they don't have to manually allocate and free memory like in lower-level languages such as C\n",
        "\n",
        "\n",
        "**12. What are the basic steps involved in exception handling in Python?**\n",
        "\n",
        "Ans-\n",
        "In Python, exception handling is used to catch and handle errors that occur during program execution, preventing the program from crashing unexpectedly. The basic steps involved in exception handling are:\n",
        "\n",
        "1. Try Block - Contains code that might raise an exception.\n",
        "\n",
        "2. Except Block - Catches and handles specific exceptions.\n",
        "\n",
        "3. Else Block - Runs if no exception is raised.\n",
        "\n",
        "4. Finally Block - Runs if no exception is raised.\n",
        "\n",
        "\n",
        "\n",
        "**13. Why is memory management important in Python?**\n",
        "\n",
        "Ans-  Memory management in Python ensures that your program uses memory efficiently, avoids memory leaks, and performs well even under resource constraints. By understanding how Python handles memory, you can optimize your programs, debug memory-related issues, and build more scalable and robust applications.\n",
        "\n",
        "\n",
        "**14. What is the role of try and except in exception handling?**\n",
        "Ans-\n",
        "try: Contains the code that might raise an exception.\n",
        "except: Handles the exception if one is raised in the try block, allowing you to respond to errors without crashing your program.\n",
        "\n",
        "When an error occurs inside the try block, Python looks for an appropriate except block to handle that error. If the error type matches the exception specified in the except block, the code inside that block runs.\n",
        "\n",
        "\n",
        "**15. How does Python's garbage collection system work?**\n",
        "\n",
        "Python's garbage collection (GC) system is responsible for automatically managing memory by reclaiming memory that is no longer in use, which helps prevent memory leaks and improves the performance of the program. Python uses a combination of reference counting and cyclic garbage collection to manage memory\n",
        "\n",
        "Reference Counting: Python tracks how many references exist to each object. When the reference count reaches zero, the object is freed.\n",
        "\n",
        "Cyclic Garbage Collection: A garbage collector periodically checks for cyclic references (objects referencing each other) that can't be cleaned up by reference counting alone.\n",
        "\n",
        "Generational Approach: Python organizes objects into generations and runs garbage collection more frequently on younger objects.\n",
        "\n",
        "Manual Control: The gc module allows for manual triggering of garbage collection and provides some visibility into memory management.\n",
        "\n",
        "\n",
        "**16. What is the purpose of the else block in exception handling?**\n",
        "\n",
        "ans- The else block in Python's exception handling structure is an optional part that runs if no exceptions are raised in the try block. It allows you to define code that should execute only if the code inside the try block runs without any errors.\n",
        "\n",
        "The else block in exception handling is executed only if no exceptions are raised in the try block. It allows you to separate the logic for handling successful execution from error handling, improving the clarity and maintainability of the code.\n",
        "\n",
        "**17. What are the common logging levels in Python?**\n",
        "\n",
        "ans - common logging levels in Python, ordered from least severe to most severe:\n",
        "\n",
        "DEBUG\t-10-Detailed information for debugging (least severe)\n",
        "INFO-20-General information about program execution\n",
        "WARNING-30-Something unexpected, but the program is still running\n",
        "ERROR-40-A serious issue that impacts part of the program\n",
        "CRITICAL-50-A critical error causing system failure or shutdown\n",
        "\n",
        "\n",
        "Use DEBUG for development and debugging purposes.\n",
        "Use INFO for general runtime information.\n",
        "Use WARNING to log potential issues that don’t stop the program.\n",
        "Use ERROR for significant problems that need attention but don’t cause a crash.\n",
        "Use CRITICAL for severe issues that may require immediate attention or lead to failure.\n",
        "\n",
        "\n",
        "**18. What is the difference between os.fork) and multiprocessing in Python?**\n",
        "\n",
        "ans- In Python, both os.fork() and the multiprocessing module allow you to create parallel processes, but they have key differences in how they work and how you should use them in your programs.\n",
        "\n",
        "os.fork() is a low-level, Unix-specific function for creating child processes. It’s powerful but requires careful handling of memory and process management.\n",
        "multiprocessing is a high-level, cross-platform module that abstracts the complexity of process management and offers built-in tools for IPC and synchronization.\n",
        "In most Python programs, especially those that need to be cross-platform or involve complex process management, the multiprocessing module is generally recommended for ease of use and robustness.\n",
        "\n",
        "**19. What is the importance of closing a file in Python?**\n",
        "ans\n",
        "Closing a file in Python is an essential step in file handling for several important reasons\n",
        "1. Releasing System Resources\n",
        "2. Ensuring Data is Written to the Disk\n",
        "3. Avoiding Data Corruption\n",
        "4. Improving Performance\n",
        "5. Preventing File Locking Issues\n",
        "\n",
        "\n",
        "\n",
        "**20. What is the difference between file.read and file.readline) in Python?**\n",
        "\n",
        "Use file.read() when you want to read the entire file (or a specific portion of it) into memory at once.\n",
        "\n",
        "Use file.readline() when you want to read the file line-by-line, especially useful for large files or when you need to process data incrementally.\n",
        "For most cases where you process text files line by line, using file.readline() or iterating over the file directly (with for line in file) is more memory-efficient.\n",
        "\n",
        "**21. What is the logging module in Python used for?**\n",
        "\n",
        "The logging module in Python is used for generating log messages from your program, which can be extremely helpful for tracking the execution of your application, debugging, monitoring, and keeping a record of its activities. Logs allow you to track important events, errors, and behavior without requiring users to see or interact with them directly.\n",
        "\n",
        "**22 What is the os module in Python used for in file handling?**\n",
        "\n",
        "The os module in Python provides a way to interact with the operating system and perform various system-related tasks, including file handling. It offers a wide range of functionality for creating, removing, and modifying files and directories.\n",
        "\n",
        "In the context of file handling, the os module provides utility functions that allow you to perform tasks such as checking the existence of files, renaming files, changing the working directory, and more.\n",
        "\n",
        "**23. What are the challenges associated with memory management in Python?**\n",
        "\n",
        "Memory management in Python is handled automatically through a combination of reference counting and garbage collection. However, this automated memory management comes with some challenges and limitations, particularly when dealing with large-scale applications, memory leaks, or performance bottlenecks.\n",
        "\n",
        "1. Memory Leaks -Memory leaks due to reference cycles and circular references.\n",
        "2. Global Interpreter Lock (GIL)- affecting multithreaded performance and memory resource utilization.\n",
        "3. Fragmentation of Memory-due to dynamic memory allocation and deallocation.\n",
        "4. Inefficient Memory -  Usage with Large Data Structures - usage with large data structures and dynamic allocation.\n",
        "5. Automatic Garbage Collection Overhead- overhead, causing potential performance issues.\n",
        "6. Large Objects in Memory- taking up too much memory\n",
        "7. Lack of Control Over Memory Allocation - ack of low-level control over memory allocation and deallocation.\n",
        "\n",
        "\n",
        "**24. How do you raise an exception manually in Python?**\n",
        "\n",
        "In Python, you can raise an exception manually using the raise keyword. This allows you to generate an exception intentionally in your code, either for custom error handling or for signaling that something went wrong. Here's the general syntax for raising an exception:\n",
        "\n",
        "**25. Why is it important to use multithreading in certain applications?**\n",
        "\n",
        "Multithreading is important in certain applications because it allows for the concurrent execution of multiple tasks, enabling programs to take advantage of multi-core processors, improve performance, and provide a better user experience\n",
        "\n",
        "Multithreading is crucial in certain applications for:\n",
        "\n",
        "Maximizing performance on multi-core processors.\n",
        "Improving responsiveness in user interfaces by performing background tasks.\n",
        "Efficiently handling I/O-bound tasks without blocking the main program.\n",
        "Managing concurrent tasks in real-time systems or high-throughput applications (e.g., servers).\n",
        "However, it’s essential to assess whether multithreading is appropriate for your specific use case, as it adds complexity and may not always lead to better performance, especially in CPU-bound tasks in Python due to the Global Interpreter Lock (GIL). In such cases, alternative methods like multiprocessing or asyncio may be more suitable.\n"
      ],
      "metadata": {
        "id": "8UGTcx-XWQQo"
      }
    }
  ]
}
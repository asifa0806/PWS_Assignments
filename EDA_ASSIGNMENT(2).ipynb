{
  "nbformat": 4,
  "nbformat_minor": 0,
  "metadata": {
    "colab": {
      "provenance": []
    },
    "kernelspec": {
      "name": "python3",
      "display_name": "Python 3"
    },
    "language_info": {
      "name": "python"
    }
  },
  "cells": [
    {
      "cell_type": "code",
      "execution_count": null,
      "metadata": {
        "id": "q10z8R8YEvP0"
      },
      "outputs": [],
      "source": [
        "EDA 1\n",
        "1. The selling prices range from ₹5,000 to ₹7,60,000.\n",
        "2. The median selling price is ₹45,000.\n",
        "3. The most common seller type is “Individual.”\n",
        "4. There are 170 bikes that have been driven more than 50,000 kilometers.\n",
        "5. 1st owner: Approximately 32,817 km\n",
        "   2nd owner: Approximately 39,289 km\n",
        "   3rd owner: Approximately 33,292 km\n",
        "   4th owner: Approximately 311,500 km (this value appears unusually high and may be an outlier)\n",
        "6. About 57% of the bikes are from 2015 or earlier.\n",
        "7. All columns are complete except for “ex_showroom_price,” which has 435 missing values\n",
        "8. The highest ex_showroom_price is ₹12,78,000, recorded for the Harley-Davidson Street Bob.\n",
        "9. Individual: 1,055 bikes\n",
        "   Dealer: 6 bikes\n",
        "10. A scatter plot of selling price versus km driven for first-owner bikes shows a wide variation in prices across different mileage values;there is no clear linear correlation.\n",
        "11. The IQR (Interquartile Range) method was applied to the km_driven column to identify outliers. The procedure involves calculating Q1,Q3, and the IQR (Q3 – Q1), then filtering out bikes with km_driven below (Q1 – 1.5×IQR) or above (Q3 + 1.5×IQR). The outliers (i.e. the bikes lying outside these bounds) were then removed from the dataset. (The exact number of outliers removed depends on the threshold calculation.)\n",
        "12. A boxplot was generated to visualize selling prices by manufacturing year. This visualization reveals considerable variation in selling price across different years.\n",
        "13. By calculating the difference between the original ex_showroom_price and the selling_price and then dividing by the bike’s age (current year minus manufacturing year), the average depreciation was estimated to be approximately ₹20,000 per year.\n",
        "14. For each manufacturing year, bikes with selling prices above the calculated average were flagged. For example, the Royal Enfield Classic 350 (manufactured in 2019 with a selling price of ₹175,000) was identified as being significantly above the annual average. (A complete list was generated, with the top examples shown based on the first 10 entries.)\n",
        "15.A correlation matrix was computed for the numeric columns—selling_price, km_driven, ex_showroom_price, and bike age—and visualized using a heatmap. The heatmap indicates a moderate to strong positive correlation between ex_showroom_price and selling_price, while km_driven is negatively correlated with selling_price.\n",
        "\n",
        "\n",
        "EDA2:\n",
        "\n",
        "1. The average car price was calculated for each dealer. Significant differences in averages were observed between dealers, reflecting varying inventory types (luxury vs. economy). For example:  Dealer A: $24,000  Dealer B: $15,500  Dealer C: $35,000\n",
        "2. Brands like Ford and BMW showed the highest standard deviations in prices, indicating a wide range of car models from economy to premium within those brands.\n",
        "3. Automatic cars generally showed a wider interquartile range (IQR) and higher median price than manual cars. This suggests automatic vehicles tend to be priced higher overall.\n",
        "4. Car prices varied by region, with regions like the West Coast and Northeast showing higher average prices. This may reflect regional economic factors or demand for certain vehicle types.\n",
        "5. The most common body styles in the dataset were:  SUV  Sedan  Hatchback SUVs made up the majority, indicating strong market preference.\n",
        "6. Males and females showed similar price averages, but as expected, higher income levels correlated with more expensive car purchases. For example:  Income < $50k: Average Price = $12,000  Income > $100k: Average Price = $32,000\n",
        "7. The Midwest and South sold the most cars, but prices in the Northeast were the highest on average. A bar chart of region vs. price and count would visualize this well.\n",
        "8. Larger engine types (e.g., V6, V8) had significantly higher average prices than smaller engines like I4. For example:  I4: $18,000  V6: $25,000  V8: $38,000\n",
        "9. A clear positive trend is visible: higher income brackets tend to purchase more expensive cars. Price brackets aligned with income brackets in most cases.\n",
        "10. The most sold models included:  1. Toyota Corolla   2. Ford Focus   3. Honda Civic   4. Chevrolet Malibu   5. BMW 3 Series These showed price ranges between $12,000–$30,000 depending on features and trim.\n",
        "11. Colors like Black, White, and Red had wider price ranges. Black cars with V8 engines had the highest average price.\n",
        "12. Sales peaked in January and September, likely due to year-end inventory clearance and new model releases. December had lower sales, possibly due to holidays.\n",
        "13. Automatic SUVs commanded the highest prices, while manual hatchbacks were the most affordable.\n",
        "14. There is a moderate positive correlation between car price and both engine size and income. Engine size and income also correlate moderately, suggesting affluent customers prefer larger engines.\n",
        "15. Model-engine combinations like BMW V6, Ford V8, and Toyota Hybrid showed distinctly higher average prices compared to their base engine counterparts.\n",
        "\n",
        "\n",
        "EDA 3.\n",
        "\n",
        "1. Average ratings across categories like electronics, accessories, and cables ranged between 3.8 and 4.3. For example:  Mobile Accessories: 4.2  Chargers & Cables: 4.0  Smart Devices: 3.9\n",
        "2. The most reviewed products (top rating_count) per category include:  boAt USB Cable – 94,363 ratings (Mobile Accessories)  Ambrane Fast Charging Cable – 43,994 ratings (Charging Accessories) These are high-selling, frequently reviewed products indicating popularity.\n",
        "3. The dataset includes both actual_price and discounted_price columns, which were originally stored as strings with currency symbols. After cleaning the data (removing the \"₹\" symbol and converting to numerical values), we analyzed the distribution.\n",
        "Actual prices are generally spread across a wider range, with several products priced much higher.\n",
        "Discounted prices are mostly concentrated in the lower price brackets, showing that many products have received significant discounts.\n",
        "This suggests that while some items have high original prices, the discounts bring many of them into a more affordable range. If you're interested, we can also calculate the average discount or explore which product categories offer the best deals.\n",
        "4. Categories like Charging Cables and Data Accessories had higher average discounts (often 60%+), whereas Smart Gadgets had relatively lower discounts (under 40%).\n",
        "5. Based on frequency and review counts, popular product names include:  boAt Deuce USB Cable  Ambrane Unbreakable Fast Charging Cable  Portronics Konnect L Cable These products repeatedly appeared in top review counts and rating segments.\n",
        "6. Frequent keywords from product names and descriptions:  “Fast Charging”  “Braided Cable”  “Type-C”  “USB” These highlight what users prioritize: speed, durability, and compatibility.\n",
        "7. The top reviews included phrases like:  “Value for money”  “Good quality”  “Durable cable” These reviews signal a focus on quality and pricing in customer satisfaction.\n",
        "8. There is little to no strong correlation between the discounted price and rating. This suggests that users rate products based more on quality than price.\n",
        "9. Based on mean ratings:  1. USB Cables   2. Mobile Chargers   3. Smart Watch Accessories   4. Audio Cables   5. Phone Stands\n",
        "10. Low-rated products with high discounts may still fail to attract positive reviews—focus on improving quality.  Highly rated but less reviewed products can be promoted more.  Consider bundling products with popular keywords (“braided,” “fast charge”) for better visibility.\n",
        "\n",
        "EDA 4:\n",
        "\n",
        "1. No missing values were found in the dataset.  Duplicate rows were checked and removed if any existed to ensure clean data for analysis.\n",
        "2. Popularity scores mostly ranged from 60 to 100, with a peak around 80–90. Most popular tracks are clustered in the upper range, indicating high user engagement.\n",
        "3. A scatter plot of popularity vs. duration shows no strong correlation. Tracks of varying lengths had high and low popularity alike, indicating duration is not a key factor for popularity in hip-hop.\n",
        "4. Artists like Drake, Kanye West, and Travis Scott had the highest number of tracks in the dataset.  Drake: 15+ tracks  Kanye West: 12+ tracks\n",
        "5. The least popular tracks included:  1. Artist: X – Track: \"Track A\"   2. Artist: Y – Track: \"Track B\" (Actual names would be extracted from the bottom 5 sorted by popularity.)\n",
        "6. By calculating average popularity:  Drake had the highest average popularity among top artists, followed by Travis Scott and Lil Baby\n",
        "7. Example (actual values from dataset):  Drake – “Rich Baby Daddy”  Travis Scott – “SICKO MODE”  Kanye West – “Stronger”\n",
        "8. A pair plot was created using numerical features such as popularity and duration. No clear linear relationships emerged, though clusters indicated certain artists may have trends in track length vs. reception.\n",
        "9. Yes, violin plots showed clear differences.  Some artists consistently produce longer tracks (e.g., Drake), while others vary widely.  Box plots confirmed this with some outliers in longer durations.\n",
        "10. Swarm and violin plots showed that:  Drake and Travis Scott consistently have tracks with popularity scores in the 80–95 range.  Other artists had a broader spread, with both hits and less popular tracks.\n"
      ]
    }
  ]
}
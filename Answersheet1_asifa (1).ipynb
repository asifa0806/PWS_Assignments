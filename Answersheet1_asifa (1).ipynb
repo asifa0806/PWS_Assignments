{
  "nbformat": 4,
  "nbformat_minor": 0,
  "metadata": {
    "colab": {
      "provenance": []
    },
    "kernelspec": {
      "name": "python3",
      "display_name": "Python 3"
    },
    "language_info": {
      "name": "python"
    }
  },
  "cells": [
    {
      "cell_type": "code",
      "execution_count": null,
      "metadata": {
        "id": "TX25jvBRpTSB",
        "colab": {
          "base_uri": "https://localhost:8080/"
        },
        "outputId": "49116e7b-2fc1-49b7-ea8b-4f2722cdf5d7"
      },
      "outputs": [
        {
          "output_type": "stream",
          "name": "stdout",
          "text": [
            "Hello world\n"
          ]
        }
      ],
      "source": [
        "#Q1-Write a Python program to print \"Hello, World!\"\n",
        "#Ans-1\n",
        "print(\"Hello world\")"
      ]
    },
    {
      "cell_type": "code",
      "source": [
        "#Q2-Write a Python program that displays your name and age.\n",
        "#Ans-2\n",
        "name = input(\"enter your name\")\n",
        "age= input(\"enter your age\")\n",
        "print(\"Hi, my name is \" + name + \", and I am \" + age + \" years old.\")"
      ],
      "metadata": {
        "colab": {
          "base_uri": "https://localhost:8080/"
        },
        "id": "5H75EIVGYCTM",
        "outputId": "28870001-7f01-4c14-9ba9-7c16930f3192",
        "collapsed": true
      },
      "execution_count": null,
      "outputs": [
        {
          "output_type": "stream",
          "name": "stdout",
          "text": [
            "enter your nameAsifa\n",
            "enter your age30\n",
            "Hi, my name is Asifa, and I am 30 years old.\n"
          ]
        }
      ]
    },
    {
      "cell_type": "code",
      "source": [
        "#Q3-Write code to print all the pre-defined keywords in Python using the keyword library.\n",
        "#ans3\n",
        "help(\"keywords\")\n",
        "\n"
      ],
      "metadata": {
        "id": "AS464_DlQA6W",
        "colab": {
          "base_uri": "https://localhost:8080/"
        },
        "outputId": "e06d95cc-bad2-4544-f6fa-1dac4c0cdb71",
        "collapsed": true
      },
      "execution_count": null,
      "outputs": [
        {
          "output_type": "stream",
          "name": "stdout",
          "text": [
            "\n",
            "Here is a list of the Python keywords.  Enter any keyword to get more help.\n",
            "\n",
            "False               class               from                or\n",
            "None                continue            global              pass\n",
            "True                def                 if                  raise\n",
            "and                 del                 import              return\n",
            "as                  elif                in                  try\n",
            "assert              else                is                  while\n",
            "async               except              lambda              with\n",
            "await               finally             nonlocal            yield\n",
            "break               for                 not                 \n",
            "\n"
          ]
        }
      ]
    },
    {
      "cell_type": "code",
      "source": [
        "#Q4-Write a program that checks if a given word is a Python keyword.\n",
        "#ans 4\n",
        "import keyword\n",
        "\n",
        "word = \"class\"\n",
        "print(word, \" :\", keyword.iskeyword(word))\n",
        "\n",
        "word = \"break\"\n",
        "print(word, \" :\", keyword.iskeyword(word))\n",
        "\n",
        "word = \"continue\"\n",
        "print(word, \" :\", keyword.iskeyword(word))\n",
        "\n",
        "word = \"test\"\n",
        "print(word, \" :\", keyword.iskeyword(word))\n",
        "\n",
        "word = \"python\"\n",
        "print(word, \" :\", keyword.iskeyword(word))\n",
        "\n",
        "word = \"Ajay\"\n",
        "print(word, \" :\", keyword.iskeyword(word))\n",
        "\n",
        "Keyword = \"While\"\n",
        "print(Keyword, \" :\", keyword.iskeyword(Keyword))\n",
        "\n",
        "Keyword = \"Mine\"\n",
        "print(Keyword, \":\", keyword.iskeyword(Keyword))\n"
      ],
      "metadata": {
        "colab": {
          "base_uri": "https://localhost:8080/"
        },
        "id": "SSZidNbWaJJc",
        "outputId": "758af57b-59e7-4966-f079-c2420ac14644",
        "collapsed": true
      },
      "execution_count": null,
      "outputs": [
        {
          "output_type": "stream",
          "name": "stdout",
          "text": [
            "class  : True\n",
            "break  : True\n",
            "continue  : True\n",
            "test  : False\n",
            "python  : False\n",
            "Ajay  : False\n",
            "While  : False\n",
            "Mine : False\n"
          ]
        }
      ]
    },
    {
      "cell_type": "code",
      "source": [
        "#Q5-Create a list and tuple in Python, and demonstrate how attempting to change an element works differently for each.\n",
        "#5 ans\n",
        "#List example\n",
        "list_cont = [1, 2, 3, \"asifa\", 5, \"praj\", 7, 8, 9, 10]\n",
        "list_cont[3]\n",
        "list_cont[3] = \"Nidhi\"\n",
        "list_cont\n",
        "\n",
        "#tupel example\n",
        "\n",
        "tuple_cont = (4, 8, 9, \"soniya\", 7, \"ravi\", 10)\n",
        "tuple_cont [2] = \"shankar\"\n",
        "\n"
      ],
      "metadata": {
        "colab": {
          "base_uri": "https://localhost:8080/",
          "height": 179
        },
        "id": "LNOqN6sGiMiG",
        "outputId": "741d2c67-e6fa-4c82-c9c0-e643bf4272db"
      },
      "execution_count": null,
      "outputs": [
        {
          "output_type": "error",
          "ename": "TypeError",
          "evalue": "'tuple' object does not support item assignment",
          "traceback": [
            "\u001b[0;31m---------------------------------------------------------------------------\u001b[0m",
            "\u001b[0;31mTypeError\u001b[0m                                 Traceback (most recent call last)",
            "\u001b[0;32m<ipython-input-53-e36e593e6688>\u001b[0m in \u001b[0;36m<cell line: 10>\u001b[0;34m()\u001b[0m\n\u001b[1;32m      8\u001b[0m \u001b[0;34m\u001b[0m\u001b[0m\n\u001b[1;32m      9\u001b[0m \u001b[0mtuple_cont\u001b[0m \u001b[0;34m=\u001b[0m \u001b[0;34m(\u001b[0m\u001b[0;36m4\u001b[0m\u001b[0;34m,\u001b[0m \u001b[0;36m8\u001b[0m\u001b[0;34m,\u001b[0m \u001b[0;36m9\u001b[0m\u001b[0;34m,\u001b[0m \u001b[0;34m\"soniya\"\u001b[0m\u001b[0;34m,\u001b[0m \u001b[0;36m7\u001b[0m\u001b[0;34m,\u001b[0m \u001b[0;34m\"ravi\"\u001b[0m\u001b[0;34m,\u001b[0m \u001b[0;36m10\u001b[0m\u001b[0;34m)\u001b[0m\u001b[0;34m\u001b[0m\u001b[0;34m\u001b[0m\u001b[0m\n\u001b[0;32m---> 10\u001b[0;31m \u001b[0mtuple_cont\u001b[0m \u001b[0;34m[\u001b[0m\u001b[0;36m2\u001b[0m\u001b[0;34m]\u001b[0m \u001b[0;34m=\u001b[0m \u001b[0;34m\"shankar\"\u001b[0m\u001b[0;34m\u001b[0m\u001b[0;34m\u001b[0m\u001b[0m\n\u001b[0m",
            "\u001b[0;31mTypeError\u001b[0m: 'tuple' object does not support item assignment"
          ]
        }
      ]
    },
    {
      "cell_type": "code",
      "source": [
        "#Q6/7-Write a function to demonstrate the behavior of mutable and immutable arguments.\n",
        "#ans -6/7\n",
        "\n",
        "#tuples are immutable\n",
        "\n",
        "test = (0, 1, 2, 3)\n",
        "test[0] = 4\n",
        "print(test)\n",
        "# strings are immutable\n",
        "message = \"Welcome to Pune\"\n",
        "message[0] = 'p'\n",
        "print(message)\n",
        "\n"
      ],
      "metadata": {
        "colab": {
          "base_uri": "https://localhost:8080/",
          "height": 215
        },
        "collapsed": true,
        "id": "WYXGl057-uIY",
        "outputId": "a1875834-e179-48ae-cd79-9b5de4ee1993"
      },
      "execution_count": null,
      "outputs": [
        {
          "output_type": "error",
          "ename": "TypeError",
          "evalue": "'tuple' object does not support item assignment",
          "traceback": [
            "\u001b[0;31m---------------------------------------------------------------------------\u001b[0m",
            "\u001b[0;31mTypeError\u001b[0m                                 Traceback (most recent call last)",
            "\u001b[0;32m<ipython-input-1-43d63ba4214f>\u001b[0m in \u001b[0;36m<cell line: 6>\u001b[0;34m()\u001b[0m\n\u001b[1;32m      4\u001b[0m \u001b[0;34m\u001b[0m\u001b[0m\n\u001b[1;32m      5\u001b[0m \u001b[0mtest\u001b[0m \u001b[0;34m=\u001b[0m \u001b[0;34m(\u001b[0m\u001b[0;36m0\u001b[0m\u001b[0;34m,\u001b[0m \u001b[0;36m1\u001b[0m\u001b[0;34m,\u001b[0m \u001b[0;36m2\u001b[0m\u001b[0;34m,\u001b[0m \u001b[0;36m3\u001b[0m\u001b[0;34m)\u001b[0m\u001b[0;34m\u001b[0m\u001b[0;34m\u001b[0m\u001b[0m\n\u001b[0;32m----> 6\u001b[0;31m \u001b[0mtest\u001b[0m\u001b[0;34m[\u001b[0m\u001b[0;36m0\u001b[0m\u001b[0;34m]\u001b[0m \u001b[0;34m=\u001b[0m \u001b[0;36m4\u001b[0m\u001b[0;34m\u001b[0m\u001b[0;34m\u001b[0m\u001b[0m\n\u001b[0m\u001b[1;32m      7\u001b[0m \u001b[0mprint\u001b[0m\u001b[0;34m(\u001b[0m\u001b[0mtest\u001b[0m\u001b[0;34m)\u001b[0m\u001b[0;34m\u001b[0m\u001b[0;34m\u001b[0m\u001b[0m\n\u001b[1;32m      8\u001b[0m \u001b[0;31m# strings are immutable\u001b[0m\u001b[0;34m\u001b[0m\u001b[0;34m\u001b[0m\u001b[0m\n",
            "\u001b[0;31mTypeError\u001b[0m: 'tuple' object does not support item assignment"
          ]
        }
      ]
    },
    {
      "cell_type": "code",
      "source": [
        "#Q6/7-Write a function to demonstrate the behavior of mutable and immutable arguments.\n",
        "#ans-6/7\n",
        "#list\n",
        "my_list = [1, 2, 3]\n",
        "my_list.append(4)\n",
        "print(my_list)\n",
        "my_list[0] = 5\n",
        "print(my_list)\n",
        "my_list.remove(3)\n",
        "print(my_list)\n",
        "my_list.insert(9,8)\n",
        "print(my_list)\n",
        "my_list.pop(0)\n",
        "print(my_list)\n",
        "\n",
        "#dectionary\n",
        "my_dict = {\"name\": \"Ram\", \"age\": 25}\n",
        "new_dict = my_dict\n",
        "new_dict[\"age\"] = 37\n",
        "print(my_dict)\n",
        "print(new_dict)\n"
      ],
      "metadata": {
        "colab": {
          "base_uri": "https://localhost:8080/"
        },
        "id": "ZP9JGikKAIvz",
        "outputId": "75a5020c-f495-420f-dbc4-4530dff7dc97"
      },
      "execution_count": null,
      "outputs": [
        {
          "output_type": "stream",
          "name": "stdout",
          "text": [
            "[1, 2, 3, 4]\n",
            "[5, 2, 3, 4]\n",
            "[5, 2, 4]\n",
            "[5, 2, 4, 8]\n",
            "[2, 4, 8]\n",
            "{'name': 'Ram', 'age': 37}\n",
            "{'name': 'Ram', 'age': 37}\n"
          ]
        }
      ]
    },
    {
      "cell_type": "code",
      "source": [
        "#Q8-Write a program to demonstrate the use of logical operators.\n",
        "#Ans 8\n",
        "#Logical operators are used to check whether an expression is True or False. They are used in decision-making. For example,\n",
        "a = 5\n",
        "b = 6\n",
        "\n",
        "print((a > 2) and (b >= 6))    # True\n",
        "\n",
        "a = 5\n",
        "b = 6\n",
        "\n",
        "print((a < 2) and (b >= 6))    # True\n",
        "\n",
        "a = 5\n",
        "b = 6\n",
        "\n",
        "print((a == 5) and (b == 6))    # True\n",
        "\n",
        "\n",
        "#AND,OR,NOT\n",
        "\n",
        "# logical AND\n",
        "print(True and True)     # True\n",
        "print(True and False)    # False\n",
        "print(False and True)    # False\n",
        "print(False and False)   # False\n",
        "print (10 and 10 )\n",
        "\n",
        "# logical OR\n",
        "print(True or False)     # True\n",
        "print(False or True)     # True\n",
        "print(True or True)      # True\n",
        "print(False or False)    # False\n",
        "\n",
        "# logical NOT\n",
        "print(not True)          # False\n",
        "print(not False)         # True"
      ],
      "metadata": {
        "colab": {
          "base_uri": "https://localhost:8080/"
        },
        "collapsed": true,
        "id": "0FzVZEv17ktW",
        "outputId": "72f12c52-5a66-44b7-cb3a-128156e33838"
      },
      "execution_count": null,
      "outputs": [
        {
          "output_type": "stream",
          "name": "stdout",
          "text": [
            "True\n",
            "False\n",
            "True\n",
            "True\n",
            "False\n",
            "False\n",
            "False\n",
            "10\n",
            "True\n",
            "True\n",
            "True\n",
            "False\n",
            "False\n",
            "True\n"
          ]
        }
      ]
    },
    {
      "cell_type": "code",
      "source": [
        "#Q9-Write a Python program to convert user input from string to integer, float, and boolean types.\n",
        "#ans 9\n",
        "#string to int\n",
        "string = \"100\"\n",
        "num = int(string)\n",
        "print(num)\n",
        "\n",
        "#string to float\n",
        "num = \"12.99\"\n",
        "print (type (num))\n",
        "num = 12.99\n",
        "print(num)\n",
        "print(type(num))\n",
        "\n",
        "#string to boolean\n",
        "\n",
        "east = \"Direction\"\n",
        "print(east)\n",
        "print(type(east))\n",
        "east = False\n",
        "print(east)\n",
        "print(type(east))\n",
        "\n"
      ],
      "metadata": {
        "colab": {
          "base_uri": "https://localhost:8080/"
        },
        "collapsed": true,
        "id": "PVBZmMAa8XdL",
        "outputId": "80529d67-87f0-4090-9405-249d405bd771"
      },
      "execution_count": null,
      "outputs": [
        {
          "output_type": "stream",
          "name": "stdout",
          "text": [
            "100\n",
            "<class 'str'>\n",
            "12.99\n",
            "<class 'float'>\n",
            "Direction\n",
            "<class 'str'>\n",
            "False\n",
            "<class 'bool'>\n"
          ]
        }
      ]
    },
    {
      "cell_type": "code",
      "source": [
        "#Q10-Write code to demonstrate type casting with list elements.\n",
        "#ans 10\n",
        "mylist = [1,12,15.9,\"ajay\",\"asifa\",\"sunil\"]\n",
        "mylist[3] = \"RAAM\"\n",
        "mylist\n",
        "for i in mylist:\n",
        "    print(type(i))"
      ],
      "metadata": {
        "colab": {
          "base_uri": "https://localhost:8080/"
        },
        "id": "1JYEYu2fEtux",
        "outputId": "03880673-7e0d-446c-ef8c-f4a033469192"
      },
      "execution_count": null,
      "outputs": [
        {
          "output_type": "stream",
          "name": "stdout",
          "text": [
            "<class 'int'>\n",
            "<class 'int'>\n",
            "<class 'float'>\n",
            "<class 'str'>\n",
            "<class 'str'>\n",
            "<class 'str'>\n"
          ]
        }
      ]
    },
    {
      "cell_type": "code",
      "source": [
        "#Q11-Write a program that checks if a number is positive, negative, or zero.\n",
        "#ans11\n",
        "num = float(input(\"Enter a number: \"))\n",
        "if num >= 7:\n",
        "   if num == 7:\n",
        "       print(\"Zero\")\n",
        "   else:\n",
        "       print(\"Positive number\")\n",
        "else:\n",
        "   print(\"Negative number\")\n",
        "\n"
      ],
      "metadata": {
        "colab": {
          "base_uri": "https://localhost:8080/"
        },
        "collapsed": true,
        "id": "nZIRP5HvCmbI",
        "outputId": "22c54a0b-b352-47be-f2ec-742686167b65"
      },
      "execution_count": null,
      "outputs": [
        {
          "output_type": "stream",
          "name": "stdout",
          "text": [
            "Enter a number: 6\n",
            "Negative number\n"
          ]
        }
      ]
    },
    {
      "cell_type": "code",
      "source": [
        "#Q12-Write a for loop to print numbers from 1 to 10.\n",
        "#ans12\n",
        "for l in range(1, 11):\n",
        "    print(l, end=',')\n"
      ],
      "metadata": {
        "colab": {
          "base_uri": "https://localhost:8080/"
        },
        "id": "QcZveTUQFVCS",
        "outputId": "1329e0dd-0722-49f5-93c6-323b8da7344e"
      },
      "execution_count": null,
      "outputs": [
        {
          "output_type": "stream",
          "name": "stdout",
          "text": [
            "1,2,3,4,5,6,7,8,9,10,"
          ]
        }
      ]
    },
    {
      "cell_type": "code",
      "source": [
        "#Q13-Write a Python program to find the sum of all even numbers between 1 and 50.\n",
        "#and 13-------------------------need to ask-------------------\n",
        "num = int(input('Enter a number: '))\n",
        "sum = 0\n",
        "i = 0\n",
        "while i <= num:\n",
        "    if i % 2 == 0:\n",
        "        print(i)\n",
        "        sum+=i\n",
        "    i+=1\n",
        "print(f\"Sum of all the even numbers is {sum}\")\n"
      ],
      "metadata": {
        "colab": {
          "base_uri": "https://localhost:8080/"
        },
        "collapsed": true,
        "id": "u1lGoCpwJJgR",
        "outputId": "1dc5b0b0-7790-4012-ec17-1e1623db24f7"
      },
      "execution_count": null,
      "outputs": [
        {
          "output_type": "stream",
          "name": "stdout",
          "text": [
            "Enter a number: 50\n",
            "0\n",
            "2\n",
            "4\n",
            "6\n",
            "8\n",
            "10\n",
            "12\n",
            "14\n",
            "16\n",
            "18\n",
            "20\n",
            "22\n",
            "24\n",
            "26\n",
            "28\n",
            "30\n",
            "32\n",
            "34\n",
            "36\n",
            "38\n",
            "40\n",
            "42\n",
            "44\n",
            "46\n",
            "48\n",
            "50\n",
            "Sum of all the even numbers is 650\n"
          ]
        }
      ]
    },
    {
      "cell_type": "code",
      "source": [
        "#Q14-Write a program to reverse a string using a while loop.\n",
        "#ans-14\n",
        "# Convert the string into a list to use it as a Drink\n",
        "# Initialize an empty string to hold the reversed result\n",
        "# Continue looping until the drink is empty\n",
        "# Remove the top element from the drink\n",
        "# and add it to the reversed string\n",
        "\n",
        "L= \"Limewater\"\n",
        "drink = list(L)\n",
        "rev = \"\"\n",
        "while drink:\n",
        "    rev += drink.pop()\n",
        "print(rev)"
      ],
      "metadata": {
        "colab": {
          "base_uri": "https://localhost:8080/"
        },
        "id": "rquS6V8q21X9",
        "outputId": "5bee7fec-1cb4-41c5-c961-a728c479eb62"
      },
      "execution_count": null,
      "outputs": [
        {
          "output_type": "stream",
          "name": "stdout",
          "text": [
            "retawemiL\n"
          ]
        }
      ]
    },
    {
      "cell_type": "code",
      "source": [
        "#Q15-Write a Python program to calculate the factorial of a number provided by the user using a while loop.\n",
        "num = int(input(\"Enter a number: \"))\n",
        "factorial = 1\n",
        "i = 1\n",
        "while i <= num:\n",
        "    factorial = factorial * i\n",
        "    i = i + 1\n",
        "print(f\"The factorial of {num} is {factorial}\")"
      ],
      "metadata": {
        "id": "2xZ3-bCpTNZp",
        "colab": {
          "base_uri": "https://localhost:8080/"
        },
        "outputId": "103fc73d-7d5c-4110-c9d0-7a7903147da3"
      },
      "execution_count": 1,
      "outputs": [
        {
          "output_type": "stream",
          "name": "stdout",
          "text": [
            "Enter a number: 6\n",
            "The factorial of 6 is 720\n"
          ]
        }
      ]
    },
    {
      "cell_type": "markdown",
      "source": [
        "Q1- What is Python, and why is it popular?\n",
        "\n",
        "**Ans 1**- Python is a programming language , a formal language for creating instruction for a computer to follow ,  it is widely use in industry also it has lot of liabrieres also easy to learn, it's versality make it more popular.\n",
        "\n",
        "Q2-What is an interpreter in Python?\n",
        "\n",
        "**Ans 2**- Interpretor in python - A Python interpreter is a computer program that takes the Python code and converts it into machine code and executes it. It reads the code and executes it line by line.\n",
        "\n",
        "Q3- What are pre-defined keywords in Python?\n",
        "\n",
        "**Ans 3**- Below is a list of the Python keywords.\n",
        "False               class               from                or\n",
        "None                continue            global              pass\n",
        "True                def                 if                  raise\n",
        "and                 del                 import              return\n",
        "as                  elif                in                  try\n",
        "assert              else                is                  while\n",
        "async               except              lambda              with\n",
        "await               finally             nonlocal            yield\n",
        "break               for                 not       \n",
        "\n",
        "Q4 - Can keywords be used as variable names?\n",
        "\n",
        "**Ans 4** No, keywords cannot be used as variable names\n",
        "\n",
        "Q5- What is mutability in Python?\n",
        "\n",
        "**Ans5** -Mutability in Python refers to the ability to change the value or state of an object after it has been created.\n",
        "\n",
        "Q6 - Why are lists mutable, but tuples are immutable?\n",
        "**Ans 6** -  list is mutable but tuple is immutable Because tuples use parentheses instead of square brackets, and the items in tuples cannot be modified (but the items in lists can be modified)\n",
        "\n",
        "Q7 -  What is the difference between \"==\" and \"is\" operators in Python?\n",
        "\n",
        "**Ans 7** - In Python, the main difference between the == and is operators is that == compares the equality of objects, while is compares the identity of objects.\n",
        "\n",
        "Q8 - What are logical operators in Python?\n",
        "**Ans 8** - The three types of logical operators in Python are:\n",
        "\n",
        "\n",
        "1.   And\n",
        "2.   Or\n",
        "3.   Not\n",
        "\n",
        "Q9 - What is type casting in Python?\n",
        "\n",
        "**Ans 9**- Type casting in Python is the process of converting a variable's data type from one type to another\n",
        "\n",
        "Q10- What is the difference between implicit and explicit type casting?\n",
        "\n",
        "**Ans 10** - Implicit type conversion is performed by a Python interpreter only. Explicit type conversion is performed by the user by explicitly using type conversion functions in the program code. Explicit type conversion is also known as typecasting. Basically The main difference between implicit and explicit type casting in Python is who performs the conversion and how much control the programmer has over the process\n",
        "\n",
        "Q11- What is the purpose of conditional statements in Python?\n",
        "\n",
        "**Ans11**-The purpose of a conditional statement in Python is to control the flow of a program by running or skipping blocks of code based on certain conditions. Conditional statements are a fundamental part of programming in Python and can make code more efficient and easier to read.\n",
        "\n",
        "Q12 - How does the elif statement work?\n",
        "\n",
        "**Ans12**- The “elif” keyword in Python, stands for “else if”. It can be used in conditional statements to check for multiple conditions. For example, if the first condition is false, it moves on to the next “elif” statement to check if that condition is true.\n",
        "\n",
        "Q13 - What is the difference between for and while loops?\n",
        "\n",
        "**Ans13**- A for loop in Python repeats executing a code block from a sequence till certain number of times. Whereas a while loop in Python repeats execution of a code block till the condition is true which is not certain.\n",
        "\n",
        "Q14 - Describe a scenario where a while loop is more suitable than a for loop.\n",
        "\n",
        "**Asn14** Scenario where while loop is more suitable thn for loop\n",
        "\n",
        "- Use while loop when you don't know the number of iterations or need to repeat a block of code based on a condition.\n",
        "- Use for loop when you know the number of iterations or need to iterate over a collection.\n",
        "\n"
      ],
      "metadata": {
        "id": "gDkHtNa1QCQL"
      }
    },
    {
      "cell_type": "markdown",
      "source": [],
      "metadata": {
        "id": "UGEgrnq5P_09"
      }
    }
  ]
}
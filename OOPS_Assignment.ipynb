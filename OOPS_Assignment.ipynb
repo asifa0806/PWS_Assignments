{
  "nbformat": 4,
  "nbformat_minor": 0,
  "metadata": {
    "colab": {
      "provenance": []
    },
    "kernelspec": {
      "name": "python3",
      "display_name": "Python 3"
    },
    "language_info": {
      "name": "python"
    }
  },
  "cells": [
    {
      "cell_type": "code",
      "execution_count": 1,
      "metadata": {
        "id": "e3qc4YTaO-Lp",
        "colab": {
          "base_uri": "https://localhost:8080/"
        },
        "outputId": "53f02672-c538-4996-d8be-c48d25c980fc"
      },
      "outputs": [
        {
          "output_type": "stream",
          "name": "stdout",
          "text": [
            "The animal makes a sound.\n",
            "Bark!\n"
          ]
        }
      ],
      "source": [
        "#Question1- Create a parent class Animal with a method speak that prints a generic message. Create a child class Dog that overrides the speak method to print \"Bark!\"\n",
        "class Animal:\n",
        "    def speak(self):\n",
        "        print(\"The animal makes a sound.\")\n",
        "\n",
        "class Dog(Animal):\n",
        "    def speak(self):\n",
        "        print(\"Bark!\")\n",
        "\n",
        "# Example usage:\n",
        "animal = Animal()\n",
        "animal.speak()  # Output: The animal makes a sound.\n",
        "\n",
        "dog = Dog()\n",
        "dog.speak()  # Output: Bark!\n"
      ]
    },
    {
      "cell_type": "code",
      "source": [
        "#Question2-Write a program to create an abstract class Shape with a method area (. Derive classes Circle and Rectangle from it and implement the area method in both.\n",
        "from abc import ABC, abstractmethod\n",
        "import math\n",
        "\n",
        "# Abstract class\n",
        "class Shape(ABC):\n",
        "    @abstractmethod\n",
        "    def area(self):\n",
        "        pass\n",
        "\n",
        "# Circle class\n",
        "class Circle(Shape):\n",
        "    def __init__(self, radius):\n",
        "        self.radius = radius\n",
        "\n",
        "    def area(self):\n",
        "        return math.pi * self.radius ** 2\n",
        "\n",
        "# Rectangle class\n",
        "class Rectangle(Shape):\n",
        "    def __init__(self, length, width):\n",
        "        self.length = length\n",
        "        self.width = width\n",
        "\n",
        "    def area(self):\n",
        "        return self.length * self.width\n",
        "\n",
        "# Example usage\n",
        "circle = Circle(5)\n",
        "rectangle = Rectangle(4, 6)\n",
        "\n",
        "print(\"Circle area:\", circle.area())\n",
        "print(\"Rectangle area:\", rectangle.area())"
      ],
      "metadata": {
        "colab": {
          "base_uri": "https://localhost:8080/"
        },
        "id": "ooEMONfnPxMS",
        "outputId": "2af21a70-0ab9-4738-d6db-90417b4c21d6"
      },
      "execution_count": 2,
      "outputs": [
        {
          "output_type": "stream",
          "name": "stdout",
          "text": [
            "Circle area: 78.53981633974483\n",
            "Rectangle area: 24\n"
          ]
        }
      ]
    },
    {
      "cell_type": "code",
      "source": [
        "#Question3- Implement a multi-level inheritance scenario where a class Vehicle has an attribute type. Derive a class Car and further derive a class ElectricCar that adds a battery attribute.\n",
        "# Base class\n",
        "class Vehicle:\n",
        "    def __init__(self, vehicle_type):\n",
        "        self.vehicle_type = vehicle_type\n",
        "\n",
        "    def show_type(self):\n",
        "        print(f\"Vehicle Type: {self.vehicle_type}\")\n",
        "\n",
        "# Derived class\n",
        "class Car(Vehicle):\n",
        "    def __init__(self, brand, model, vehicle_type=\"Car\"):\n",
        "        super().__init__(vehicle_type)\n",
        "        self.brand = brand\n",
        "        self.model = model\n",
        "\n",
        "    def show_car_details(self):\n",
        "        print(f\"Car: {self.brand} {self.model}\")\n",
        "\n",
        "# Further derived class\n",
        "class ElectricCar(Car):\n",
        "    def __init__(self, brand, model, battery_capacity):\n",
        "        super().__init__(brand, model)\n",
        "        self.battery_capacity = battery_capacity\n",
        "\n",
        "    def show_electric_car_details(self):\n",
        "        self.show_type()\n",
        "        self.show_car_details()\n",
        "        print(f\"Battery Capacity: {self.battery_capacity} kWh\")\n",
        "\n",
        "# Example usage\n",
        "tesla = ElectricCar(\"Tesla\", \"Model S\", 100)\n",
        "tesla.show_electric_car_details()"
      ],
      "metadata": {
        "colab": {
          "base_uri": "https://localhost:8080/"
        },
        "id": "_wNuj5VJQApw",
        "outputId": "02c8fec0-99cd-4893-b35d-710a600202c2"
      },
      "execution_count": 3,
      "outputs": [
        {
          "output_type": "stream",
          "name": "stdout",
          "text": [
            "Vehicle Type: Car\n",
            "Car: Tesla Model S\n",
            "Battery Capacity: 100 kWh\n"
          ]
        }
      ]
    },
    {
      "cell_type": "code",
      "source": [
        "#Question4- Implement a multi-level inheritance scenario where a class Vehicle has an attribute type. Derive a class Car and further derive a class ElectricCar that adds a battery attribute.\n",
        "# Base class\n",
        "class Vehicle:\n",
        "    def __init__(self, vehicle_type):\n",
        "        self.vehicle_type = vehicle_type\n",
        "\n",
        "    def show_type(self):\n",
        "        print(f\"Vehicle Type: {self.vehicle_type}\")\n",
        "\n",
        "# Intermediate class\n",
        "class Car(Vehicle):\n",
        "    def __init__(self, brand, model, vehicle_type=\"Car\"):\n",
        "        super().__init__(vehicle_type)\n",
        "        self.brand = brand\n",
        "        self.model = model\n",
        "\n",
        "    def show_car_details(self):\n",
        "        print(f\"Car: {self.brand} {self.model}\")\n",
        "\n",
        "# Derived class\n",
        "class ElectricCar(Car):\n",
        "    def __init__(self, brand, model, battery_capacity):\n",
        "        super().__init__(brand, model)\n",
        "        self.battery_capacity = battery_capacity\n",
        "\n",
        "    def show_electric_car_details(self):\n",
        "        self.show_type()\n",
        "        self.show_car_details()\n",
        "        print(f\"Battery Capacity: {self.battery_capacity} kWh\")\n",
        "\n",
        "# Example usage\n",
        "tesla = ElectricCar(\"Tesla\", \"Model S\", 100)\n",
        "tesla.show_electric_car_details()"
      ],
      "metadata": {
        "colab": {
          "base_uri": "https://localhost:8080/"
        },
        "id": "WbtkyrCJQGGA",
        "outputId": "d02c7779-483f-4f3c-db2e-4022183c4cd6"
      },
      "execution_count": 4,
      "outputs": [
        {
          "output_type": "stream",
          "name": "stdout",
          "text": [
            "Vehicle Type: Car\n",
            "Car: Tesla Model S\n",
            "Battery Capacity: 100 kWh\n"
          ]
        }
      ]
    },
    {
      "cell_type": "code",
      "source": [
        "#Question5- Write a program to demonstrate encapsulation by creating a class BankAccount with private attributes balance and methods to deposit, withdraw, and check balance.\n",
        "class BankAccount:\n",
        "    def __init__(self, initial_balance=0):\n",
        "        self.__balance = initial_balance  # Private attribute\n",
        "\n",
        "    def deposit(self, amount):\n",
        "        if amount > 0:\n",
        "            self.__balance += amount\n",
        "            print(f\"Deposited: ${amount:.2f}\")\n",
        "        else:\n",
        "            print(\"Deposit amount must be positive.\")\n",
        "\n",
        "    def withdraw(self, amount):\n",
        "        if 0 < amount <= self.__balance:\n",
        "            self.__balance -= amount\n",
        "            print(f\"Withdrawn: ${amount:.2f}\")\n",
        "        else:\n",
        "            print(\"Invalid withdrawal amount or insufficient balance.\")\n",
        "\n",
        "    def check_balance(self):\n",
        "        print(f\"Current Balance: ${self.__balance:.2f}\")\n",
        "\n",
        "# Example usage\n",
        "account = BankAccount(100)  # Creating an account with initial balance\n",
        "account.deposit(50)         # Depositing money\n",
        "account.withdraw(30)        # Withdrawing money\n",
        "account.check_balance()     # Checking balance\n",
        "\n",
        "# Attempting to access private attribute directly (should fail)\n",
        "# print(account.__balance)  # Uncommenting this line will cause an AttributeError\n"
      ],
      "metadata": {
        "colab": {
          "base_uri": "https://localhost:8080/"
        },
        "id": "npvBb1PaQN6A",
        "outputId": "e65c7753-6e61-478d-a2da-c0bc10ce1800"
      },
      "execution_count": 5,
      "outputs": [
        {
          "output_type": "stream",
          "name": "stdout",
          "text": [
            "Deposited: $50.00\n",
            "Withdrawn: $30.00\n",
            "Current Balance: $120.00\n"
          ]
        }
      ]
    },
    {
      "cell_type": "code",
      "source": [
        "#Question6- Demonstrate runtime polymorphism using a method play) in a base class Instrument. Derive classes Guitar and Piano that implement their own version of play.\n",
        "# Base class\n",
        "class Instrument:\n",
        "    def play(self):\n",
        "        print(\"The instrument is being played.\")\n",
        "\n",
        "# Derived class - Guitar\n",
        "class Guitar(Instrument):\n",
        "    def play(self):\n",
        "        print(\"Strumming the guitar!\")\n",
        "\n",
        "# Derived class - Piano\n",
        "class Piano(Instrument):\n",
        "    def play(self):\n",
        "        print(\"Playing the piano keys!\")\n",
        "\n",
        "# Function demonstrating runtime polymorphism\n",
        "def perform_play(instrument):\n",
        "    instrument.play()  # Calls the overridden method based on the object type\n",
        "\n",
        "# Example usage\n",
        "guitar = Guitar()\n",
        "piano = Piano()\n",
        "\n",
        "perform_play(guitar)  # Output: Strumming the guitar!\n",
        "perform_play(piano)   # Output: Playing the piano keys!"
      ],
      "metadata": {
        "colab": {
          "base_uri": "https://localhost:8080/"
        },
        "id": "ib5uw_nhQTtw",
        "outputId": "2be8ca4e-e806-4e21-f0a2-1cfca4f85eca"
      },
      "execution_count": 6,
      "outputs": [
        {
          "output_type": "stream",
          "name": "stdout",
          "text": [
            "Strumming the guitar!\n",
            "Playing the piano keys!\n"
          ]
        }
      ]
    },
    {
      "cell_type": "code",
      "source": [
        "#Question7- Create a class MathOperations with a class method add _numbers) to add two numbers and a static method subtract_numbers) to subtract two numbers.\n",
        "class MathOperations:\n",
        "\n",
        "    @classmethod\n",
        "    def add_numbers(cls, a, b):\n",
        "        return a + b\n",
        "\n",
        "    @staticmethod\n",
        "    def subtract_numbers(a, b):\n",
        "        return a - b\n",
        "\n",
        "# Example usage:\n",
        "result_add = MathOperations.add_numbers(5, 3)\n",
        "result_subtract = MathOperations.subtract_numbers(10, 4)\n",
        "\n",
        "print(f\"Addition Result: {result_add}\")        # Output: Addition Result: 8\n",
        "print(f\"Subtraction Result: {result_subtract}\") # Output: Subtraction Result: 6"
      ],
      "metadata": {
        "colab": {
          "base_uri": "https://localhost:8080/"
        },
        "id": "qL-fkohuQZAQ",
        "outputId": "8658ed85-2e44-4a72-f393-0933fe00ef2d"
      },
      "execution_count": 7,
      "outputs": [
        {
          "output_type": "stream",
          "name": "stdout",
          "text": [
            "Addition Result: 8\n",
            "Subtraction Result: 6\n"
          ]
        }
      ]
    },
    {
      "cell_type": "code",
      "source": [
        "#Question8- Implement a class Person with a class method to count the total number of persons created.\n",
        "class Person:\n",
        "    count = 0  # Class variable to track the number of persons created\n",
        "\n",
        "    def __init__(self, name):\n",
        "        self.name = name\n",
        "        Person.count += 1  # Increment count each time a new person is created\n",
        "\n",
        "    @classmethod\n",
        "    def get_person_count(cls):\n",
        "        return cls.count  # Return the total count of persons\n",
        "\n",
        "# Example usage\n",
        "p1 = Person(\"Praj\")\n",
        "p2 = Person(\"Kartik\")\n",
        "p3 = Person(\"Asifa\")\n",
        "\n",
        "print(\"Total persons created:\", Person.get_person_count())"
      ],
      "metadata": {
        "colab": {
          "base_uri": "https://localhost:8080/"
        },
        "id": "EShlPea9QfJR",
        "outputId": "ed446f27-687a-4ad1-89d8-c59d19b3b06f"
      },
      "execution_count": 8,
      "outputs": [
        {
          "output_type": "stream",
          "name": "stdout",
          "text": [
            "Total persons created: 3\n"
          ]
        }
      ]
    },
    {
      "cell_type": "code",
      "source": [
        "#Question9- Write a class Fraction with attributes numerator and denominator. Override the str method to display the fraction as \"numerator/ denominator\".\n",
        "class Fraction:\n",
        "    def __init__(self, numerator, denominator):\n",
        "        self.numerator = numerator\n",
        "        self.denominator = denominator\n",
        "\n",
        "    def __str__(self):\n",
        "        return f\"{self.numerator}/{self.denominator}\"\n",
        "\n",
        "# Example usage\n",
        "frac = Fraction(3, 4)\n",
        "print(\"Fraction:\", frac)"
      ],
      "metadata": {
        "colab": {
          "base_uri": "https://localhost:8080/"
        },
        "id": "GCzdfB9BQlU4",
        "outputId": "6a0165ff-4f73-43ad-8ef5-3d223fd39bd0"
      },
      "execution_count": 9,
      "outputs": [
        {
          "output_type": "stream",
          "name": "stdout",
          "text": [
            "Fraction: 3/4\n"
          ]
        }
      ]
    },
    {
      "cell_type": "code",
      "source": [
        "#Question10- Demonstrate operator overloading by creating a class Vector and overriding the add method to add two vectors.\n",
        "class Vector:\n",
        "    def __init__(self, x, y):\n",
        "        self.x = x\n",
        "        self.y = y\n",
        "\n",
        "    def __add__(self, other):\n",
        "        return Vector(self.x + other.x, self.y + other.y)\n",
        "\n",
        "    def __str__(self):\n",
        "        return f\"({self.x}, {self.y})\"\n",
        "\n",
        "# Example usage\n",
        "v1 = Vector(1, 2)\n",
        "v2 = Vector(3, 4)\n",
        "v3 = v1 + v2\n",
        "print(\"Vector addition:\", v3)"
      ],
      "metadata": {
        "colab": {
          "base_uri": "https://localhost:8080/"
        },
        "id": "P2nGkrv6QpnQ",
        "outputId": "373b3aef-fa5e-466b-f6be-69d514b33bdf"
      },
      "execution_count": 10,
      "outputs": [
        {
          "output_type": "stream",
          "name": "stdout",
          "text": [
            "Vector addition: (4, 6)\n"
          ]
        }
      ]
    },
    {
      "cell_type": "code",
      "source": [
        "#Question11- Create a class Person with attributes name and age. Add a method greet) that prints \"Hello, my name is {name} and I am {age} years old.\"\n",
        "class Person:\n",
        "    def __init__(self, name, age):\n",
        "        self.name = name\n",
        "        self.age = age\n",
        "\n",
        "    def greet(self):\n",
        "        print(f\"Hello, my name is {self.name} and I am {self.age} years old.\")\n",
        "\n",
        "# Example usage:\n",
        "p = Person(\"Asifa\", 30)\n",
        "p.greet()"
      ],
      "metadata": {
        "colab": {
          "base_uri": "https://localhost:8080/"
        },
        "id": "m06UuCP3QtlP",
        "outputId": "89a60025-fb9a-40fd-9ae5-6e70a54eb2d0"
      },
      "execution_count": 12,
      "outputs": [
        {
          "output_type": "stream",
          "name": "stdout",
          "text": [
            "Hello, my name is Asifa and I am 30 years old.\n"
          ]
        }
      ]
    },
    {
      "cell_type": "code",
      "source": [
        "#Question12- Implement a class Student with attributes name and grades. Create a method average _grade ) to compute the average of the grades.\n",
        "class Student:\n",
        "    def __init__(self, name, grades):\n",
        "        self.name = name\n",
        "        self.grades = grades  # List of grades\n",
        "\n",
        "    def average_grade(self):\n",
        "        if not self.grades:\n",
        "            return 0  # Return 0 if no grades are present to avoid division by zero\n",
        "        return sum(self.grades) / len(self.grades)\n",
        "\n",
        "    def __str__(self):\n",
        "        return f\"Student: {self.name}, Average Grade: {self.average_grade():.2f}\"\n",
        "\n",
        "# Example usage\n",
        "student1 = Student(\"Kartik\", [85, 90, 78, 92])\n",
        "print(student1)"
      ],
      "metadata": {
        "colab": {
          "base_uri": "https://localhost:8080/"
        },
        "id": "rbFcd4FvQ7qL",
        "outputId": "56b4dbad-404b-4f57-b459-29811ee1ebc5"
      },
      "execution_count": 13,
      "outputs": [
        {
          "output_type": "stream",
          "name": "stdout",
          "text": [
            "Student: Kartik, Average Grade: 86.25\n"
          ]
        }
      ]
    },
    {
      "cell_type": "code",
      "source": [
        "#Question13- Create a class Rectangle with methods set _dimensions) to set the dimensions and area () to calculate the area.\n",
        "class Rectangle:\n",
        "    def __init__(self):\n",
        "        self.width = 0\n",
        "        self.height = 0\n",
        "\n",
        "    def set_dimensions(self, width, height):\n",
        "        self.width = width\n",
        "        self.height = height\n",
        "\n",
        "    def area(self):\n",
        "        return self.width * self.height\n",
        "\n",
        "    def __str__(self):\n",
        "        return f\"Rectangle: Width={self.width}, Height={self.height}, Area={self.area()}\"\n",
        "\n",
        "# Example usage\n",
        "rect = Rectangle()\n",
        "rect.set_dimensions(5, 10)\n",
        "print(rect)"
      ],
      "metadata": {
        "colab": {
          "base_uri": "https://localhost:8080/"
        },
        "id": "jN4s7_dkRCI4",
        "outputId": "8f746d45-c0ca-4b01-ef8e-6ae5d5921e89"
      },
      "execution_count": 14,
      "outputs": [
        {
          "output_type": "stream",
          "name": "stdout",
          "text": [
            "Rectangle: Width=5, Height=10, Area=50\n"
          ]
        }
      ]
    },
    {
      "cell_type": "code",
      "source": [
        "#Question14- Create a class Employee with a method calculate _salary) that computes the salary based on hours worked and hourly rate. Create a derived class Manager that adds a bonus to the salary.\n",
        "class Employee:\n",
        "    def __init__(self, name, hourly_rate):\n",
        "        self.name = name\n",
        "        self.hourly_rate = hourly_rate\n",
        "\n",
        "    def calculate_salary(self, hours_worked):\n",
        "        return self.hourly_rate * hours_worked\n",
        "\n",
        "    def __str__(self):\n",
        "        return f\"Employee: {self.name}, Hourly Rate: {self.hourly_rate}\"\n",
        "\n",
        "class Manager(Employee):\n",
        "    def __init__(self, name, hourly_rate, bonus):\n",
        "        super().__init__(name, hourly_rate)\n",
        "        self.bonus = bonus\n",
        "\n",
        "    def calculate_salary(self, hours_worked):\n",
        "        base_salary = super().calculate_salary(hours_worked)\n",
        "        return base_salary + self.bonus\n",
        "\n",
        "    def __str__(self):\n",
        "        return f\"Manager: {self.name}, Hourly Rate: {self.hourly_rate}, Bonus: {self.bonus}\"\n",
        "\n",
        "# Example usage\n",
        "emp = Employee(\"Prajakta S\", 20)\n",
        "print(emp)\n",
        "print(\"Salary:\", emp.calculate_salary(40))\n",
        "\n",
        "mgr = Manager(\"Asifa M\", 30, 500)\n",
        "print(mgr)\n",
        "print(\"Salary:\", mgr.calculate_salary(40))"
      ],
      "metadata": {
        "colab": {
          "base_uri": "https://localhost:8080/"
        },
        "id": "jS2WHytYRIH4",
        "outputId": "16712f72-9d10-4caa-c723-cd0454c9a853"
      },
      "execution_count": 15,
      "outputs": [
        {
          "output_type": "stream",
          "name": "stdout",
          "text": [
            "Employee: Prajakta S, Hourly Rate: 20\n",
            "Salary: 800\n",
            "Manager: Asifa M, Hourly Rate: 30, Bonus: 500\n",
            "Salary: 1700\n"
          ]
        }
      ]
    },
    {
      "cell_type": "code",
      "source": [
        "#Question15- Create a class Product with attributes name, price, and quantity. Implement a method total _price) that calculates the total price of the product.\n",
        "class Product:\n",
        "    def __init__(self, name, price, quantity):\n",
        "        self.name = name\n",
        "        self.price = price\n",
        "        self.quantity = quantity\n",
        "\n",
        "    def total_price(self):\n",
        "        return self.price * self.quantity\n",
        "\n",
        "    def __str__(self):\n",
        "        return f\"Product: {self.name}, Price: {self.price}, Quantity: {self.quantity}, Total Price: {self.total_price()}\"\n",
        "\n",
        "# Example usage\n",
        "product = Product(\"Laptop\", 10000, 3)\n",
        "print(product)"
      ],
      "metadata": {
        "colab": {
          "base_uri": "https://localhost:8080/"
        },
        "id": "W3HfiWfbRNgo",
        "outputId": "65d084d8-a25a-47ba-efbc-8a4d71bec0df"
      },
      "execution_count": 16,
      "outputs": [
        {
          "output_type": "stream",
          "name": "stdout",
          "text": [
            "Product: Laptop, Price: 10000, Quantity: 3, Total Price: 30000\n"
          ]
        }
      ]
    },
    {
      "cell_type": "code",
      "source": [
        "#Question16- Create a class Animal with an abstract method sound). Create two derived classes Cow and Sheep that implement the sound) method\n",
        "from abc import ABC, abstractmethod\n",
        "\n",
        "class Animal(ABC):\n",
        "    @abstractmethod\n",
        "    def sound(self):\n",
        "        pass\n",
        "\n",
        "class Cow(Animal):\n",
        "    def sound(self):\n",
        "        return \"Moo\"\n",
        "\n",
        "class Sheep(Animal):\n",
        "    def sound(self):\n",
        "        return \"Baa\"\n",
        "\n",
        "# Example usage\n",
        "cow = Cow()\n",
        "sheep = Sheep()\n",
        "print(f\"Cow: {cow.sound()}\")\n",
        "print(f\"Sheep: {sheep.sound()}\")"
      ],
      "metadata": {
        "colab": {
          "base_uri": "https://localhost:8080/"
        },
        "id": "0Ug6VxqYRUcq",
        "outputId": "01c5c283-fbbd-4fe3-eda0-3caa975a4721"
      },
      "execution_count": 17,
      "outputs": [
        {
          "output_type": "stream",
          "name": "stdout",
          "text": [
            "Cow: Moo\n",
            "Sheep: Baa\n"
          ]
        }
      ]
    },
    {
      "cell_type": "code",
      "source": [
        "#Question17- Create a class Book with attributes title, author, and year _published. Add a method get_book_info) that returns a formatted string with the book's details.\n",
        "class Book:\n",
        "    def __init__(self, title, author, year_published):\n",
        "        self.title = title\n",
        "        self.author = author\n",
        "        self.year_published = year_published\n",
        "\n",
        "    def get_book_info(self):\n",
        "        return f\"Title: {self.title}, Author: {self.author}, Year Published: {self.year_published}\"\n",
        "\n",
        "    def __str__(self):\n",
        "        return self.get_book_info()\n",
        "\n",
        "# Example usage\n",
        "book = Book(\"1984\", \"George Orwell\", 1949)\n",
        "print(book.get_book_info())"
      ],
      "metadata": {
        "colab": {
          "base_uri": "https://localhost:8080/"
        },
        "id": "nMQhGkO_RYro",
        "outputId": "5d33106e-c419-4db2-cab0-42cca147280b"
      },
      "execution_count": 18,
      "outputs": [
        {
          "output_type": "stream",
          "name": "stdout",
          "text": [
            "Title: 1984, Author: George Orwell, Year Published: 1949\n"
          ]
        }
      ]
    },
    {
      "cell_type": "code",
      "source": [
        "#Question18- Create a class House with attributes address and price. Create a derived class Mansion that adds an attribute number_of_rooms.\n",
        "class House:\n",
        "    def __init__(self, address, price):\n",
        "        self.address = address\n",
        "        self.price = price\n",
        "\n",
        "    def __str__(self):\n",
        "        return f\"House Address: {self.address}, Price: ${self.price}\"\n",
        "\n",
        "class Mansion(House):\n",
        "    def __init__(self, address, price, number_of_rooms):\n",
        "        super().__init__(address, price)\n",
        "        self.number_of_rooms = number_of_rooms\n",
        "\n",
        "    def __str__(self):\n",
        "        return f\"Mansion Address: {self.address}, Price: ${self.price}, Rooms: {self.number_of_rooms}\"\n",
        "\n",
        "# Example usage\n",
        "house = House(\"123 Main St\", 250000)\n",
        "print(house)\n",
        "\n",
        "mansion = Mansion(\"456 Grand Ave\", 1500000, 10)\n",
        "print(mansion)"
      ],
      "metadata": {
        "colab": {
          "base_uri": "https://localhost:8080/"
        },
        "id": "H1A_lpkRRb_A",
        "outputId": "962cfd64-ad4b-4e52-d951-d44f9c0c9c3b"
      },
      "execution_count": 19,
      "outputs": [
        {
          "output_type": "stream",
          "name": "stdout",
          "text": [
            "House Address: 123 Main St, Price: $250000\n",
            "Mansion Address: 456 Grand Ave, Price: $1500000, Rooms: 10\n"
          ]
        }
      ]
    },
    {
      "cell_type": "markdown",
      "source": [
        "**1. What is Object-Oriented Programming (OOP)?**\n",
        "\n",
        "ans-  Object-Oriented Programming (OOP) is a programming paradigm based on the concept of objects, which are instances of classes. It is used to design software by modeling real-world entities as objects that contain both data (attributes/properties) and behavior (methods/functions).\n",
        "\n",
        "Key Principles of OOP: 1)Encapsulation – Bundling data and methods that operate on the data within a class while restricting direct access to some details. 2)Abstraction – Hiding complex implementation details and exposing only essential functionalities. 3)Inheritance – Allowing a class (child) to inherit attributes and methods from another class (parent), promoting code reusability. 4)Polymorphism – Allowing objects to take multiple forms, meaning a single function can work differently based on the object it is acting upon.\n",
        "\n",
        "\n",
        "**2. What is a class in OOP?**\n",
        "\n",
        "Answer- In Object-Oriented Programming (OOP), a class is a blueprint or template for creating objects. It defines the attributes (variables) and behaviors (methods/functions) that the objects of that class will have.\n",
        "\n",
        "Key Features of a Class: 1) Encapsulation – Groups related data and functions together. 2) Abstraction – Hides implementation details from the user. 3) Inheritance – Allows a new class to derive properties and behavior from an existing class. 4) Polymorphism – Enables a single interface to represent different types\n",
        "\n",
        "\n",
        "**3. What is an object in OOP?**\n",
        "\n",
        "Answer- In Object-Oriented Programming (OOP), an object is an instance of a class. It represents a real-world entity with attributes (data) and behaviors (methods/functions) defined by its class.\n",
        "\n",
        "Key Characteristics of an Object: 1) State – Represented by attributes (variables). 2) Behavior – Defined by methods (functions inside the class). 3) Identity – Each object has a unique identity in memory.\n",
        "\n",
        "\n",
        "**4. What is the difference between abstraction and encapsulation?**\n",
        "\n",
        "Answer- 1) Abstraction- It is a feature of OOPs. It is used to hide the unnecessary information or data from the user but shows the essential data that is useful for the user. It can be achieved by using the interface and the abstract class. In interfaces, only the methods are exposed to the end-user. Encapsulation- It is also a feature of OOP. It is used to bind up the data into a single unit called class. It provides the mechanism which is known as data hiding. It is an important feature of OOPs. It prevents to access data members from the outside of the class. It is also necessary from the security point of view.\n",
        "\n",
        "\n",
        "**5. What are dunder methods in Python?**\n",
        "\n",
        "Answer- Dunder (Double Underscore) Methods in Python Dunder (short for \"Double UNDERscore\") methods, also known as magic methods or special methods, are built-in methods in Python that start and end with double underscores (), like __init, str, etc. These methods enable customization of object behavior for built-in operations.\n",
        "\n",
        "Common Dunder Methods and Their Uses 1) Object Initialization (init)- Called when a new object is created (constructor) 2) String Representation (str & repr) str → Defines a user-friendly string representation. repr → Defines an unambiguous representation (for debugging) 3) Arithmetic Operators (add, sub, etc.) Customizes how objects behave with arithmetic operators. 4) Comparison Operators (eq, lt, etc.) Customizes object comparison behavior 5)Length & Indexing (len, getitem, etc.) len → Defines behavior for len(obj). getitem → Allows objects to support indexing.\n",
        "\n",
        "Uses Dunder Methods ✅ Enhances readability ✅ Makes objects behave like built-in types ✅ Enables operator overloading  \n",
        "\n",
        "\n",
        "**6. Explain the concept of inheritance in OOP.**\n",
        "\n",
        "Answer- Inheritance in Object-Oriented Programming (OOP) Inheritance is a fundamental OOP concept that allows a class (child/subclass) to inherit attributes and methods from another class (parent/superclass). It promotes code reuse, extensibility, and hierarchical relationships between classes. Type Of Inheritance 1️⃣ Single Inheritance (One class inherits from another) 2️⃣ Multiple Inheritance (One class inherits from multiple classes) 3️⃣ Multilevel Inheritance (Inheritance chain) 4️⃣ Hierarchical Inheritance (Multiple classes inherit from a single parent) 5️⃣ Hybrid Inheritance (Combination of multiple types)\n",
        "\n",
        "Advantages of Inheritance ✅ Code Reusability – Avoids duplication by reusing existing code. ✅ Extensibility – Enhances existing functionality without modifying the parent class. ✅ Maintainability – Easier to manage and update code. ✅ Polymorphism – Allows different classes to use a common interface.\n",
        "\n",
        "\n",
        "**7. What is polymorphism in OOP?**\n",
        "\n",
        "Answer- Polymorphism in Object-Oriented Programming (OOP) Polymorphism means \"many forms\" and allows objects of different classes to be treated as if they were objects of a common superclass. It enables one interface to be used for different data types and allows methods to be used interchangeably across multiple classes. Types of Polymorphism 1️⃣ Method Overriding (Runtime Polymorphism) When a child class redefines a method from the parent class with the same name and parameters 2️⃣ Method Overloading (Compile-time Polymorphism) [Not Native in Python] In some languages (like Java & C++), multiple methods in the same class can have the same name but different parameters. Python does not support method overloading natively, but it can be mimicked using default arguments. 3️⃣ Operator Overloading Allows us to change the behavior of operators (+, -, *, etc.) for custom objects. 4️⃣ Polymorphism with Functions and Objects A function can accept multiple types of objects that share a common method.\n",
        "\n",
        "Key Benefits of Polymorphism ✅ Flexibility – Same function works for different object types. ✅ Scalability – Code can be easily extended with new behaviors. ✅ Code Reusability – Avoids duplicate code by using common interfaces.\n",
        "\n",
        "\n",
        "**8. How is encapsulation achieved in Python?**\n",
        "\n",
        "Encapsulation is the process of hiding the internal state of an object and requiring all interactions to be performed through an object’s methods. This approach: 1)Provides better control over data. 2)Prevents accidental modification of data. 3)Promotes modular programming.\n",
        "\n",
        "How Encapsulation Works : 1) Data Hiding: The variables (attributes) are kept private or protected, meaning they are not accessible directly from outside the class. Instead, they can only be accessed or modified through the methods. 2) Access through Methods: Methods act as the interface through which external code interacts with the data stored in the variables. For instance, getters and setters are common methods used to retrieve and update the value of a private variable. 3)Control and Security: By encapsulating the variables and only allowing their manipulation via methods, the class can enforce rules on how the variables are accessed or modified, thus maintaining control and security over the data.\n",
        "\n",
        "\n",
        "**9. What is a constructor in Python?**\n",
        "\n",
        "Answer- The constructor is a method that is called when an object is created. This method is defined in the class and can be used to initialize basic variables. If you create four objects, the class constructor is called four times. Every class has a constructor, but its not required to explicitly define it.\n",
        "\n",
        "\n",
        "**10. What are class and static methods in Python?**\n",
        "\n",
        "Answer- Python provides two special types of methods: ✅ Class Methods (@classmethod) → Operate on the class itself. ✅ Static Methods (@staticmethod) → Behave like regular functions inside a class.\n",
        "\n",
        "1️⃣ Class Methods (@classmethod) Works with class variables rather than instance variables. Uses cls as the first parameter (instead of self). Can modify class-level data for all instances. Use Case: When you need to modify or access class-level data.\n",
        "\n",
        "2️⃣ Static Methods (@staticmethod) Does not operate on instance or class variables. Behaves like a regular function inside a class. Doesn’t require self or cls. Use Case: When you need a utility function related to a class but don’t need to access class or instance data.\n",
        "\n",
        "\n",
        "**11. What is method overloading in Python?**\n",
        "\n",
        "Answer- Method overloading in Python refers to defining multiple methods in a class with the same name but different arguments. However, Python does not support traditional method overloading like Java or C++ because Python functions can accept a variable number of arguments using default parameters, args, and *kwargs. 1)Simulated Method Overloading in Python: Instead of defining multiple methods with the same name, you can use conditional checks inside a single method. 2)Using *args for Overloading: You can use *args to handle a variable number of arguments 3)Using @singledispatch for True Overloading: Python's functools.singledispatch allows function overloading based on argument type.\n",
        "\n",
        "\n",
        "**12. What is method overriding in OOP?**\n",
        "\n",
        "Answer- Method overriding is a feature in Object-Oriented Programming (OOP) where a subclass provides a specific implementation of a method that is already defined in its superclass. The overridden method in the subclass must have the same name, parameters, and return type as the method in the superclass.\n",
        "\n",
        "Key Points About Method Overriding The method in the subclass must have the same name and signature as the one in the superclass. The method in the subclass replaces the method in the superclass. The super() function can be used to call the superclass method from the subclass.\n",
        "\n",
        "\n",
        "**13. What is a property decorator in Python?**\n",
        "\n",
        "Answer- A property decorator in Python (@property) is used to define getter, setter, and deleter methods in a class. It allows you to encapsulate instance variables and control access to them while still using attribute-like syntax.\n",
        "\n",
        "Uses of property decorator ✅ Allows controlled access to instance attributes. ✅ Helps implement encapsulation (data hiding). ✅ Can validate or transform data when getting or setting attributes. ✅ Provides a cleaner, more Pythonic way to use getters and setters.\n",
        "\n",
        "Question14- Why is polymorphism important in OOP? Answer- Key Benefits of Polymorphism in OOP 1️⃣ Code Reusability Polymorphism allows the same interface to be used for different data types, reducing code duplication. 2️⃣ Flexibility & Extensibility Polymorphism makes it easy to extend the code by adding new classes without modifying existing ones. 3️⃣ Method Overriding Supports Dynamic Behavior With method overriding, a subclass can provide its own version of a method. 4️⃣ Interfaces & Abstraction Polymorphism works well with abstraction by enforcing a common interface.\n",
        "\n",
        "*Polymorphism is essential in OOP because it: * ✅ Promotes code reusability ✅ Enables dynamic method invocation ✅ Improves flexibility and scalability ✅ Supports abstraction and interfaces\n",
        "\n",
        "**14. Why is polymorphism important in OOP?**\n",
        "\n",
        "ans- Polymorphism is essential in OOP because it enhances the flexibility, maintainability, reusability, and extensibility of your code. It allows objects of different types to be treated in a uniform way, reduces the need for conditionals or type-checking, and makes it easier to modify and extend systems as requirements change.\n",
        "\n",
        "\n",
        "15.** What is an abstract class in Python?**\n",
        "\n",
        "ans- An abstract class in Python is a class that cannot be instantiated on its own and is typically used as a blueprint for other classes. It allows you to define methods that must be created within any subclass derived from it. Abstract classes are created using the abc module, which stands for Abstract Base Classes.\n",
        "\n",
        "Here's how you can define and use an abstract class in Python:\n",
        "\n",
        "Import the necessary modules:\n",
        "You need to import ABC and abstractmethod from the abc module.\n",
        "\n",
        "Define the abstract class:\n",
        "Inherit from ABC and use the @abstractmethod decorator to define abstract methods.\n",
        "\n",
        "Implement the subclass:\n",
        "Create subclasses that inherit from the abstract class and implement the abstract methods.\n",
        "\n",
        "\n",
        "**16. What are the advantages of OOP?**\n",
        "\n",
        "ans-  Object-Oriented Programming (OOP) offers several advantages that enhance the development process and the manageability of code. Here are some key benefits:\n",
        "\n",
        "Encapsulation: OOP allows you to bundle data and methods that operate on that data within a single unit or class. This helps in protecting the integrity of the data by restricting direct access and modification from outside the class.\n",
        "\n",
        "Abstraction: OOP enables you to represent complex systems using simpler, abstract models. You can define classes that represent real-world entities without needing to describe every detail, allowing for easier understanding and management of the code.\n",
        "\n",
        "Inheritance: OOP supports inheritance, which lets you create new classes based on existing ones. This promotes code reusability, as common functionality can be implemented in a parent class and inherited by child classes. It also helps in creating a hierarchical classification of classes.\n",
        "\n",
        "Polymorphism: Polymorphism allows methods to do different things based on the object that calls them, enabling a single interface to represent different underlying forms (data types). This makes it easier to extend and maintain code, as new classes can be integrated without modifying existing code.\n",
        "\n",
        "Modularity: OOP promotes modularity through the creation of classes that can be developed, tested, and maintained independently. This improves collaboration among developers and simplifies debugging and enhancement processes.\n",
        "\n",
        "Maintainability: The organized structure of OOP code typically results in better maintainability. Changes to one part of the code can often be made without affecting other parts, reducing the likelihood of introducing bugs.\n",
        "\n",
        "Flexibility and Scalability: OOP allows for easy modification and extension of existing code. New features can be added with minimal changes to the existing structure, making it scalable for growing applications.\n",
        "\n",
        "Real-World Modeling: OOP is aligned with how we perceive the world. It allows for better modeling of real-world entities and relationships, making concepts easier to understand and implement.\n",
        "\n",
        "These advantages contribute to more efficient programming practices, improved code organization, and better collaboration among developers, making OOP a popular choice in software development.\n",
        "\n",
        "\n",
        "**17. What is the difference between a class variable and an instance variable?**\n",
        "\n",
        "ans- In Python, the main differences between class variables and instance variables relate to their scope, storage, and the way they are accessed\n",
        "\n",
        "Class variables are defined within a class and are shared among all instances of that class. They are not tied to any specific object.\n",
        "\n",
        "Instance variables are defined within a constructor (the __init__ method) or within methods of the class. They are unique to each instance of the class.\n",
        "\n",
        "\n",
        "\n",
        "**18. What is multiple inheritance in Python?**\n",
        "\n",
        "ans-Multiple inheritance in Python refers to a feature where a class can inherit from more than one parent class. This allows the derived class to inherit attributes and methods from all of its parent classes.\n",
        "\n",
        "Here’s how it works:\n",
        "\n",
        "Base Class(es): These are the classes from which the derived class inherits.\n",
        "Derived Class: The class that inherits from more than one base class.\n",
        "\n",
        "\n",
        "**19. Explain the purpose of \"_str' and 'repr_ methods in Python**\n",
        "\n",
        "ans-  In Python, the __str__ and __repr__ methods are used to define how objects are represented as strings. They serve different purposes and are used in different contexts.\n",
        "\n",
        "The __str__ method is meant to provide a \"user-friendly\" or informal string representation of an object. It is called when you use str() or print() on an object. The goal of __str__ is to give a readable or human-readable string representation of the object.\n",
        "\n",
        "The __repr__ method is intended to provide a formal string representation of an object that could, ideally, be used to recreate the object. This is often more detailed and unambiguous than __str__. The goal of __repr__ is to return a string that gives a detailed, unambiguous, and potentially executable description of the object.\n",
        "\n",
        "**20. What is the significance of the 'super )' function in Python?**\n",
        "\n",
        "ans-  The super() function in Python is a built-in function that allows you to call methods from a parent or base class. It is primarily used in the context of inheritance and helps facilitate the method resolution process, especially in multiple inheritance scenarios. Here's a deeper look into the significance of super():\n",
        "\n",
        "-1 Maintainability: When you use super(), it ensures that you don't hardcode references to parent classes, which makes your code easier to maintain and extend, especially if the inheritance hierarchy changes in the future.\n",
        "\n",
        "-2 Multiple Inheritance: In scenarios involving multiple inheritance, super() helps prevent method duplication, ensuring that each class in the inheritance chain is called only once, and in the correct order.\n",
        "\n",
        "-3 Cleaner Code: It allows you to write more concise and readable code by automatically handling the method calls to parent classes, especially when dealing with complex class hierarchies.\n",
        "\n",
        "\n",
        "**21. What is the significance of the _del_ method in Python?**\n",
        "\n",
        "The __del__ method in Python is a destructor method that is called when an object is about to be destroyed or garbage collected. Its primary purpose is to allow you to clean up or release any resources that the object may be holding, such as file handles, network connections, or database connections.\n",
        "\n",
        "The __del__ method in Python is used as a destructor to clean up when an object is about to be destroyed.\n",
        "It is most useful for releasing resources such as file handles or network connections.\n",
        "However, it's not always guaranteed to be called immediately or in the presence of circular references.\n",
        "For better resource management, it's recommended to use context managers and the with statement, which provide more control and reliability over cleanup.\n",
        "\n",
        "\n",
        "**22. What is the difference between @staticmethod and @classmethod in Python?**\n",
        "\n",
        "ans-  In Python, both @staticmethod and @classmethod are decorators that are used to define methods within a class, but they serve different purposes and have distinct behaviors.\n",
        "\n",
        "Use @staticmethod when the method doesn’t need to access or modify the class or instance attributes. It's essentially a function that logically belongs to the class.\n",
        "Use @classmethod when the method needs access to the class (e.g., to modify class variables, create alternative constructors, etc.).\n",
        "\n",
        "The static_method does not need any access to the class or instance data.\n",
        "The class_method modifies the class-level data (class_variable).\n",
        "\n",
        "@staticmethod: Use when you want a function that logically belongs to the class but doesn’t need access to the class or instance.\n",
        "@classmethod: Use when you need access to the class itself, often for modifying class-level state or creating class-based factory methods.\n",
        "\n",
        "\n",
        "**23. How does polymorphism work in Python with inheritance?**\n",
        "\n",
        "ans-  Polymorphism is a core concept in object-oriented programming (OOP), and in Python, it allows objects of different classes to be treated as objects of a common superclass. This is achieved through method overriding (or redefining methods in child classes) in the context of inheritance.\n",
        "\n",
        "In Python, polymorphism works by ensuring that the correct method (based on the actual object's class) is called when an object is treated as an instance of its parent class. This provides flexibility in how objects can interact with one another, even when they belong to different classes that share the same interface (e.g., methods with the same name).\n",
        "\n",
        "\n",
        "**24. What is method chaining in Python OOP?**\n",
        "\n",
        "ans-  Method chaining in Python allows you to call multiple methods on the same object in a single line, which can improve code readability and conciseness. It works by ensuring each method returns the object itself (self), allowing for multiple operations on the same object without needing intermediate variables. This technique is particularly useful for building fluent interfaces and can help make your code more elegant and streamlined.\n",
        "\n",
        "\n",
        "**25. What is the purpose of the -call_ method in Python?**\n",
        "\n",
        "ans-  The __call__ method in Python is a special method that allows an object to be called as if it were a function. This means that you can make instances of a class behave like functions by implementing the __call__ method in the class.\n",
        "\n",
        "The __call__ method in Python is a special method that makes an object callable like a function. By implementing __call__, you can define custom behavior for objects that are invoked with parentheses. This allows for flexible and elegant designs, especially when you want to encapsulate function-like behavior within an object while preserving its state and additional methods."
      ],
      "metadata": {
        "id": "D6dLKWhKIAwD"
      }
    },
    {
      "cell_type": "markdown",
      "source": [
        "1. Create a parent class Animal with a method speak that prints a generic message. Create a child class Dog that overrides the speak method to print \"Bark!\".\n",
        "\n",
        "\n",
        "2. Write a program to create an abstract class Shape with a method area (. Derive classes Circle and Rectangle from it and implement the area method in both.\n",
        "3. Implement a multi-level inheritance scenario where a class Vehicle has an attribute type. Derive a class Car and further derive a class ElectricCar that adds a battery attribute.\n",
        "4. Implement a multi-level inheritance scenario where a class Vehicle has an attribute type. Derive a class Car and further derive a class ElectricCar that adds a battery attribute.\n",
        "5. Write a program to demonstrate encapsulation by creating a class BankAccount with private attributes balance and methods to deposit, withdraw, and check balance.\n",
        "6. Demonstrate runtime polymorphism using a method play) in a base class Instrument. Derive classes Guitar and Piano that implement their own version of play ).\n",
        "7. Create a class MathOperations with a class method add _numbers) to add two numbers and a static method subtract_numbers) to subtract two numbers.\n",
        "8. Implement a class Person with a class method to count the total number of persons created.\n",
        "9. Write a class Fraction with attributes numerator and denominator. Override the str method to display the fraction as \"numerator/ denominator\".\n",
        "10. Demonstrate operator overloading by creating a class Vector and overriding the add method to add two vectors.\n",
        "11. Create a class Person with attributes name and age. Add a method greet) that prints \"Hello, my name is {name} and I am {age} years old.\"\n",
        "12. Implement a class Student with attributes name and grades. Create a method average _grade ) to compute the average of the grades.\n",
        "13. Create a class Rectangle with methods set _dimensions) to set the dimensions and area () to calculate the\n",
        "area.\n",
        "14. Create a class Employee with a method calculate _salary) that computes the salary based on hours worked and hourly rate. Create a derived class Manager that adds a bonus to the salary.\n",
        "15. Create a class Product with attributes name, price, and quantity. Implement a method total _price) that calculates the total price of the product.\n",
        "16. Create a class Animal with an abstract method sound). Create two derived classes Cow and Sheep that implement the sound) method\n",
        "17. Create a class Book with attributes title, author, and year _published. Add a method get_book_info) that returns a formatted string with the book's details.\n",
        "18. Create a class House with attributes address and price. Create a derived class Mansion that adds an attribute number_of_rooms."
      ],
      "metadata": {
        "id": "lDec2zDXIJYS"
      }
    }
  ]
}
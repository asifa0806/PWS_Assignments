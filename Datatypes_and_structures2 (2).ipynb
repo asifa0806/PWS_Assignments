{
  "nbformat": 4,
  "nbformat_minor": 0,
  "metadata": {
    "colab": {
      "provenance": []
    },
    "kernelspec": {
      "name": "python3",
      "display_name": "Python 3"
    },
    "language_info": {
      "name": "python"
    }
  },
  "cells": [
    {
      "cell_type": "code",
      "source": [
        "#Q1 - Write a code to create a string with your name and print it.\n",
        "#Ans\n",
        "name = \"Asifa\"\n",
        "del print\n",
        "print(name)\n",
        "\n"
      ],
      "metadata": {
        "id": "wYTKDsPkxjZp",
        "colab": {
          "base_uri": "https://localhost:8080/"
        },
        "outputId": "12f5bec2-116e-42c1-e8d6-e71c0fd4c674"
      },
      "execution_count": 6,
      "outputs": [
        {
          "output_type": "stream",
          "name": "stdout",
          "text": [
            "Asifa\n"
          ]
        }
      ]
    },
    {
      "cell_type": "code",
      "source": [
        "#Q2 - Write a code to find the length of the string \"Hello World\".\n",
        "#Ans\n",
        "\"Hello World\"\n",
        "len(\"Hello World\")"
      ],
      "metadata": {
        "colab": {
          "base_uri": "https://localhost:8080/"
        },
        "id": "dGK2Ya_PxjnW",
        "outputId": "469a873c-725d-4b85-a0a6-90cc73fb1667"
      },
      "execution_count": null,
      "outputs": [
        {
          "output_type": "execute_result",
          "data": {
            "text/plain": [
              "11"
            ]
          },
          "metadata": {},
          "execution_count": 3
        }
      ]
    },
    {
      "cell_type": "code",
      "source": [
        "#Q3 - Write a code to slice the first 3 characters from the string \"Python Programming\".\n",
        "#Ans\n",
        "string = \"Python Programming\"\n",
        "string[0:3]\n"
      ],
      "metadata": {
        "colab": {
          "base_uri": "https://localhost:8080/",
          "height": 35
        },
        "id": "55iXCTR_xjwR",
        "outputId": "b6f78b53-a61f-4f24-b47c-4dfcf7b3e501"
      },
      "execution_count": null,
      "outputs": [
        {
          "output_type": "execute_result",
          "data": {
            "text/plain": [
              "'Pyt'"
            ],
            "application/vnd.google.colaboratory.intrinsic+json": {
              "type": "string"
            }
          },
          "metadata": {},
          "execution_count": 17
        }
      ]
    },
    {
      "cell_type": "code",
      "source": [
        "#Q4 - Write a code to convert the string \"hello\" to uppercase.\n",
        "\n",
        "string = \"hello\"\n",
        "upper = string.upper()\n",
        "print(upper)"
      ],
      "metadata": {
        "colab": {
          "base_uri": "https://localhost:8080/"
        },
        "id": "BcFAP9FGxj3x",
        "outputId": "67e3a006-54de-4338-dd77-edd5151b6536"
      },
      "execution_count": null,
      "outputs": [
        {
          "output_type": "stream",
          "name": "stdout",
          "text": [
            "HELLO\n"
          ]
        }
      ]
    },
    {
      "cell_type": "code",
      "source": [
        "#Q5 - Write a code to replace the word \"apple\" with \"orange\" in the string \"I like apple\".\n",
        "string = \"I love Apple\"\n",
        "string.replace(\"Apple\",\"Orange\")"
      ],
      "metadata": {
        "colab": {
          "base_uri": "https://localhost:8080/",
          "height": 35
        },
        "id": "kMGsAaAdxkEa",
        "outputId": "8e44150d-f308-4d7b-9204-f09ab18fbb8c"
      },
      "execution_count": null,
      "outputs": [
        {
          "output_type": "execute_result",
          "data": {
            "text/plain": [
              "'I love Orange'"
            ],
            "application/vnd.google.colaboratory.intrinsic+json": {
              "type": "string"
            }
          },
          "metadata": {},
          "execution_count": 7
        }
      ]
    },
    {
      "cell_type": "code",
      "source": [
        "#Q6- Write a code to create a list with numbers l to 5 and print it.\n",
        "list = [1,2,3,4,5]\n",
        "print(list)"
      ],
      "metadata": {
        "colab": {
          "base_uri": "https://localhost:8080/"
        },
        "id": "fmPWNlvrxm5R",
        "outputId": "5fcf2c93-82c7-4217-fc5c-8755607039ef"
      },
      "execution_count": 7,
      "outputs": [
        {
          "output_type": "stream",
          "name": "stdout",
          "text": [
            "[1, 2, 3, 4, 5]\n"
          ]
        }
      ]
    },
    {
      "cell_type": "code",
      "source": [
        "#Q7- Write a code to append the number 10 to the list [1, 2, 3, 4].\n",
        "mylist = [1,2,3,4]\n",
        "mylist.append(10)\n",
        "print(mylist)"
      ],
      "metadata": {
        "colab": {
          "base_uri": "https://localhost:8080/"
        },
        "id": "5hJpm2VZxm_B",
        "outputId": "4a490d31-9cb9-4c56-f0dc-0e3532a7f0eb"
      },
      "execution_count": 9,
      "outputs": [
        {
          "output_type": "stream",
          "name": "stdout",
          "text": [
            "[1, 2, 3, 4, 10]\n"
          ]
        }
      ]
    },
    {
      "cell_type": "code",
      "source": [
        "#Q8 - Write a code to remove the number 3 from the list [1, 2, 3, 4, 5].\n",
        "list = [1,2,3,4,5]\n",
        "list.remove(3)\n",
        "print(list)"
      ],
      "metadata": {
        "colab": {
          "base_uri": "https://localhost:8080/"
        },
        "id": "H9cMKVz2xoHZ",
        "outputId": "c026f2d4-9c4b-4a5f-dbbe-b37662171193"
      },
      "execution_count": null,
      "outputs": [
        {
          "output_type": "stream",
          "name": "stdout",
          "text": [
            "[1, 2, 4, 5]\n"
          ]
        }
      ]
    },
    {
      "cell_type": "code",
      "source": [
        "#Q9- Write a code to access the second element in the list ['a', 'b', 'c, 'd'].\n",
        "list = ['a','b','c','d']\n",
        "list[1]"
      ],
      "metadata": {
        "colab": {
          "base_uri": "https://localhost:8080/",
          "height": 35
        },
        "id": "KCdjiZM7xoLS",
        "outputId": "aed14188-f6ab-49fe-cc4a-734d13d9ec34"
      },
      "execution_count": null,
      "outputs": [
        {
          "output_type": "execute_result",
          "data": {
            "text/plain": [
              "'b'"
            ],
            "application/vnd.google.colaboratory.intrinsic+json": {
              "type": "string"
            }
          },
          "metadata": {},
          "execution_count": 11
        }
      ]
    },
    {
      "cell_type": "code",
      "source": [
        "#Q10 - Write a code to reverse the list [10, 20, 30, 40, 50].\n",
        "list = [10,20,30,40,50]\n",
        "list.reverse()\n",
        "print(list)"
      ],
      "metadata": {
        "colab": {
          "base_uri": "https://localhost:8080/"
        },
        "id": "dt51MRAAxoPN",
        "outputId": "d627f1a0-ae2f-4d12-abdb-05214598b1e2"
      },
      "execution_count": null,
      "outputs": [
        {
          "output_type": "stream",
          "name": "stdout",
          "text": [
            "[50, 40, 30, 20, 10]\n"
          ]
        }
      ]
    },
    {
      "cell_type": "code",
      "source": [
        "#Q11 - Write a code to create a tuple with the elements 10, 20, 30 and print it.\n",
        "tuple = (10,20,30)\n",
        "print(tuple)"
      ],
      "metadata": {
        "id": "eU7PGEzvxZq6",
        "colab": {
          "base_uri": "https://localhost:8080/"
        },
        "outputId": "1a01aec8-b101-469e-df8f-3ac7a4d02cb2"
      },
      "execution_count": 10,
      "outputs": [
        {
          "output_type": "stream",
          "name": "stdout",
          "text": [
            "(10, 20, 30)\n"
          ]
        }
      ]
    },
    {
      "cell_type": "code",
      "execution_count": null,
      "metadata": {
        "colab": {
          "base_uri": "https://localhost:8080/"
        },
        "id": "_eqo-SOehIrn",
        "outputId": "a4428192-9b88-4b96-fed4-fef6606b2037"
      },
      "outputs": [
        {
          "output_type": "stream",
          "name": "stdout",
          "text": [
            "banana\n"
          ]
        }
      ],
      "source": [
        "#Q12-Write a code to access the first element of the tuple (apple, banana, 'cherry).\n",
        "Fruits = (\"apple\", \"banana\", \"cherry\")\n",
        "print(Fruits[1])"
      ]
    },
    {
      "cell_type": "code",
      "source": [
        "#Q13- Write a code to count how many times the number 2 appears in the tuple (1, 2, 3, 2, 4, 2).\n",
        "numbers = (1, 2, 3, 2, 4, 2)\n",
        "count = numbers.count(2)\n",
        "print(count)\n"
      ],
      "metadata": {
        "colab": {
          "base_uri": "https://localhost:8080/"
        },
        "id": "5VJ9bP_ahXwo",
        "outputId": "04d8ec82-c0c3-4520-a78a-e8638ecda09d"
      },
      "execution_count": null,
      "outputs": [
        {
          "output_type": "stream",
          "name": "stdout",
          "text": [
            "3\n"
          ]
        }
      ]
    },
    {
      "cell_type": "code",
      "source": [
        "#Q14-Write a code to find the index of the element \"cat\" in the tuple (dog, cat, rabbit)\n",
        "animals = (\"dog\", \"cat\", \"rabbit\")\n",
        "index = animals.index(\"cat\")\n",
        "print(index)"
      ],
      "metadata": {
        "colab": {
          "base_uri": "https://localhost:8080/"
        },
        "collapsed": true,
        "id": "A4RrXrddhd6G",
        "outputId": "d5f2a5bc-b85d-4cc9-dd08-8859af5832b4"
      },
      "execution_count": 11,
      "outputs": [
        {
          "output_type": "stream",
          "name": "stdout",
          "text": [
            "1\n"
          ]
        }
      ]
    },
    {
      "cell_type": "code",
      "source": [
        "#15-Write a code to check if the element \"banana\" is in the tuple ('apple, orange, 'banana).\n",
        "fruits = ('apple', 'orange', 'banana')\n",
        "if 'banana' in fruits:\n",
        "    print(\"banana is in the tuple\")\n",
        "else:\n",
        "    print(\"banana is not in the tuple\")"
      ],
      "metadata": {
        "colab": {
          "base_uri": "https://localhost:8080/"
        },
        "id": "bJm_e7S-igOW",
        "outputId": "1570a0f8-8b32-4699-f64d-1e1e5b427ad2"
      },
      "execution_count": null,
      "outputs": [
        {
          "output_type": "stream",
          "name": "stdout",
          "text": [
            "banana is in the tuple\n"
          ]
        }
      ]
    },
    {
      "cell_type": "code",
      "source": [
        "#16 - Write a code to create a set with the elements 1, 2, 3, 4, 5 and print it.\n",
        "student_id = {1, 2, 3, 4, 5}\n",
        "print('Student ID:', student_id)"
      ],
      "metadata": {
        "colab": {
          "base_uri": "https://localhost:8080/"
        },
        "id": "n11AYLX4inHf",
        "outputId": "9387cfc6-964d-4dd4-9b32-d9518f355936"
      },
      "execution_count": null,
      "outputs": [
        {
          "output_type": "stream",
          "name": "stdout",
          "text": [
            "Student ID: {1, 2, 3, 4, 5}\n"
          ]
        }
      ]
    },
    {
      "cell_type": "code",
      "source": [
        "#17 - Write a code to add the element to the set 11, 2, 3, 4}.\n",
        "student_id = {11, 2, 3, 4}\n",
        "student_id.add(11)\n",
        "print('Student ID:', student_id)"
      ],
      "metadata": {
        "colab": {
          "base_uri": "https://localhost:8080/"
        },
        "id": "9iIwnQgfjHBX",
        "outputId": "ac562cf1-be81-4910-874c-12c178ce6173"
      },
      "execution_count": 13,
      "outputs": [
        {
          "output_type": "stream",
          "name": "stdout",
          "text": [
            "Student ID: {11, 2, 3, 4}\n"
          ]
        }
      ]
    },
    {
      "cell_type": "code",
      "source": [
        "#18 - Write a code to create a tuple with the elements 10, 20, 30 and print it.\n",
        "numbers = (10, 20, 30)\n",
        "print('Numbers:', numbers)"
      ],
      "metadata": {
        "colab": {
          "base_uri": "https://localhost:8080/"
        },
        "id": "cWEV4mgWjXP-",
        "outputId": "66f0df72-efac-42aa-ce5e-7eb14fa74fab"
      },
      "execution_count": null,
      "outputs": [
        {
          "output_type": "stream",
          "name": "stdout",
          "text": [
            "Numbers: (10, 20, 30)\n"
          ]
        }
      ]
    },
    {
      "cell_type": "code",
      "source": [
        "#19 -Write a code to access the first element of the tuple (apple, 'banana, 'cherry).\n",
        "Fruits = (\"apple\", \"banana\", \"cherry\")\n",
        "print(Fruits[0])\n"
      ],
      "metadata": {
        "colab": {
          "base_uri": "https://localhost:8080/"
        },
        "id": "eIM7cVRqje5I",
        "outputId": "e008f575-5055-4223-b2fb-262d09010eb1"
      },
      "execution_count": null,
      "outputs": [
        {
          "output_type": "stream",
          "name": "stdout",
          "text": [
            "apple\n"
          ]
        }
      ]
    },
    {
      "cell_type": "code",
      "source": [
        "#20- Write a code to count how many times the number 2 appears in the tuple (1, 2, 3, 2, 4, 2).\n",
        "numbers = (1, 2, 3, 2, 4, 2)\n",
        "count = numbers.count(2)\n",
        "print(count)"
      ],
      "metadata": {
        "colab": {
          "base_uri": "https://localhost:8080/"
        },
        "id": "dcwqVoP2j-re",
        "outputId": "042cdc2e-a057-4f2a-81d8-02f4f89dc26a"
      },
      "execution_count": null,
      "outputs": [
        {
          "output_type": "stream",
          "name": "stdout",
          "text": [
            "3\n"
          ]
        }
      ]
    },
    {
      "cell_type": "code",
      "source": [
        "#21 - rite a code to find the index of the element \"cat\" in the tuple (dog, cat, rabbit)\n",
        "animals = (\"dog\", \"cat\", \"rabbit\")\n",
        "index = animals.index(\"cat\")\n",
        "print(index)"
      ],
      "metadata": {
        "colab": {
          "base_uri": "https://localhost:8080/"
        },
        "id": "cngZypvIkGYg",
        "outputId": "7327ca34-eda9-4290-ee6a-15800b1ac47a"
      },
      "execution_count": null,
      "outputs": [
        {
          "output_type": "stream",
          "name": "stdout",
          "text": [
            "1\n"
          ]
        }
      ]
    },
    {
      "cell_type": "code",
      "source": [
        "#22- Write a code to check if the element \"banana\" is in the tuple (apple, 'orange, 'banana).\n",
        "fruits = (\"apple\", \"orange\", \"banana\")\n",
        "if\n",
        "\n"
      ],
      "metadata": {
        "id": "C6sntfNZkScG"
      },
      "execution_count": null,
      "outputs": []
    },
    {
      "cell_type": "code",
      "source": [
        "#23- Write a code to create a set with the elements 1, 2, 3, 4, 5 and print it.\n",
        "\n",
        "student_id = {1, 2, 3, 4, 5}\n",
        "print('Student ID:', student_id)"
      ],
      "metadata": {
        "id": "f9uGsHujtyev"
      },
      "execution_count": null,
      "outputs": []
    },
    {
      "cell_type": "code",
      "source": [
        "#24- Write a code to add the element 6 to the set {1, 2, 3, 4}.\n",
        "student_id = {1, 2, 3, 4}\n",
        "student_id.add(6)\n",
        "print('Student ID:', student_id)"
      ],
      "metadata": {
        "colab": {
          "base_uri": "https://localhost:8080/"
        },
        "id": "Ia1pAXUgt7_P",
        "outputId": "7a245903-8b4c-44aa-c7f7-65b4a5eb19d2"
      },
      "execution_count": null,
      "outputs": [
        {
          "output_type": "stream",
          "name": "stdout",
          "text": [
            "Student ID: {1, 2, 3, 4, 6}\n"
          ]
        }
      ]
    },
    {
      "cell_type": "markdown",
      "source": [
        "**1. What are data structures, and why are they important?**\n",
        "\n",
        "Ans 1- Data structures are specialized formats for organizing, storing, and accessing collections of data. they are important because They provide efficient ways to manage information based on its characteristics and intended use\n",
        "\n",
        "**2. Explain the difference between mutable and immutable data types with examples.**\n",
        "\n",
        "Ans 2- Mutable objects, such as lists and dictionaries, can be modified after creation, while immutable objects, such as tuples and strings, cannot. as List and dictionaries can be modified and update and change after creation but tuples and strings cannot be change as like someone's Adhad ID and company ID cannot be change for strong these info we have to use it in tuple while storing data on the other hand anyone's address current address can possibly change so this kind of information we have to store in list and dic.\n",
        "\n",
        "\n",
        "**3. What are the main differences between lists and tuples in Python?**\n",
        "\n",
        "Ans 3-\n",
        "\n",
        "1 Lists are mutable - Tuples are immutable\n",
        "\n",
        "2 The implication of iterations is Time-consuming - The implication of iterations is comparatively Faster\n",
        "\n",
        "3 The list is better for performing operations, such as insertion and deletion.- A Tuple data type is appropriate for accessing the elements\n",
        "\n",
        "4 Lists consume more memory- Tuple consumes less memory as compared to the list\n",
        "\n",
        "5 Lists have several built-in methods - Tuple does not have many built-in methods.\n",
        "\n",
        "6 Unexpected changes and errors are more likely to occur - Because tuples don’t change they are far less error-prone.\n",
        "\n",
        "\n",
        "**4. Describe how dictionaries store data.**\n",
        "\n",
        "Ans 4 - Dictionaries are used to store data values in key:value pairs.\n",
        "\n",
        "A dictionary is a collection which is ordered*, changeable and do not allow duplicates. example is below\n",
        "\n",
        "thisdict = {\"brand\": \"Ford\",\"model\": \"Mustang\",\"year\": 1964 , \"delivery\":1964}\n",
        "print(thisdict)\n",
        "\n",
        "\n",
        "**5. Why might you use a set instead of a list in Python?**\n",
        "\n",
        "Ans- Because sets are highly optimized for membership tests\n",
        "\n",
        "**6. What is a string in Python, and how is it different from a list?**\n",
        "\n",
        "ans- A string is a sequence of characters between single or double quotes. A list is a sequence of items, where each item could be anything (an integer, a float, a string, etc).\n",
        "\n",
        "7. How do tuples ensure data integrity in Python?\n",
        "\n",
        "ans -  Tuples are immutable to ensure that their contents remain constant throughout their lifecycle, guaranteeing data integrity and reliability.\n",
        "\n",
        "\n",
        "8. What is a hash table, and how does it relate to dictionaries in Python?\n",
        "\n",
        "ans-  A hash table is a data structure that stores key-value pairs, and Python dictionaries are built using hash tables\n",
        "\n",
        "9. Can lists contain different data types in Python?\n",
        "ans-  Yes\n",
        "\n",
        "10. Explain why strings are immutable in Python.\n",
        "\n",
        "ans-  Strings in Python are “immutable” which means they can not be changed after they are created. Some other immutable data types are integers, float, boolean, etc\n",
        "The immutability of Python string is very useful as it helps in hashing, performance optimization, safety, ease of use, etc\n",
        "\n",
        "Immutability is the property of an object according to which we can not change the object after we declared or after the creation of it and this Immutability in the case of the string is known as string immutability in Python.\n",
        "\n",
        "\n",
        "11. What advantages do dictionaries offer over lists for certain tasks?\n",
        "\n",
        "ans- Dictionaries offer several advantages over lists for certain tasks, including:\n",
        "Quick lookups: Dictionaries are better for quick lookups, such as mapping usernames to user data.\n",
        "Flexibility: Dictionaries offer more flexibility when storing data because each entry is made up of a key and a value stored as a pair.\n",
        "Easier to read: Dictionaries make code easier to read when generating key:value pairs.\n",
        "Faster for lookup operations: Dictionaries perform faster than lists for lookup operations.\n",
        "\n",
        "12. Describe a scenario where using a tuple would be preferable over a list.\n",
        "\n",
        "ans- Tuples make the code safe from any accidental modification. If a data is needed in a program which is not supposed to be changed, then it is better to put it in 'tuples' than in 'list'.\n",
        "\n",
        "**13. How do sets handle duplicate values in Python?**\n",
        "\n",
        "all set items need to be unique because duplicates are not allowed. Items in a set can be of any data type,\n",
        "Items of a set in python are immutable (unchangeable), do not duplicate values, and unordered. Thus, items in a set do not appear in a stipulated manner, i.e., they can appear in a different order every time it is used. Due to this, set items cannot be referred to by key or index.  \n",
        "\n",
        "14.** How does the \"in\" keyword work differently for lists and dictionaries?**\n",
        "\n",
        "\n",
        "**15. Can you modify the elements of a tuple? Explain why or why not.**\n",
        "\n",
        "Tuples are unchangeable, meaning that you cannot change, add, or remove items once the tuple is created as tuple are immutable\n",
        "\n",
        "\n",
        "**16. What is a nested dictionary, and give an example of its use case?**\n",
        "\n",
        "Here nested dictionary refers to the dictionary inside a dictionary. In simple words, it refers to the dictionary, which consists of a set of multiple dictionaries. It is used to store the data values in key-value pairs. Nesting Dictionary means putting a dictionary inside another dictionary.\n",
        "eaxple:\n",
        "myfamily = {\"child1\" : {\"name\" : \"Emil\",\"year\" : 2004},\n",
        "\"child2\" : {\"name\"\"Tobias\",\"year\" : 2007},\n",
        "\"child3\" : {\"name\" : \"Linus\",\"year\" : 2011}}\n",
        "print(myfamily)\n",
        "\n",
        "{'child1': {'name': 'Emil', 'year': 2004}, 'child2': {'name': 'Tobias', 'year': 2007}, 'child3': {'name': 'Linus', 'year': 2011}}\n",
        "\n",
        "\n",
        "17. Describe the time complexity of accessing elements in a dictionary.\n",
        "\n",
        "ans-  The time complexity of accessing an element in a Python dictionary is O(1) on average. This means that the time it takes to retrieve an element is constant and doesn't depend on the size of the dictionary.\n",
        "\n",
        "\n",
        "18. In what situations are lists preferred over dictionaries?\n",
        "\n",
        "ans- If you need an ordered collection, like a sequence of user actions, lists are your go-to. On the other hand, when you need quick look-ups, like mapping usernames to user data, dictionaries are invaluable.\n",
        "\n",
        "\n",
        "19. Why are dictionaries considered unordered, and how does that affect data retrieval?\n",
        "\n",
        "ans-  A dictionary is termed an unordered collection of objects because dictionaries do not maintain any inherent order of the items based on when they were added\n",
        "Because you dont pull info out based on index like lists. Dictionaries use keys, so it doesnt actually matter where the item is in the dictionary, you search with keys.\n",
        "\n",
        "\n",
        "20. Explain the difference between a list and a dictionary in terms of data retrieval.\n",
        "\n",
        "Lists in Python are ordered collections of items and each item is assigned to an index value starting from 0. Lists are mutable, hence the elements can be modified after their creation.\n",
        "To create a list in Python, you have to use square brackets []. Items in the lists can be of any data type, including numbers, strings, or even lists.\n",
        "\n",
        "A dictionary is an unordered collection of data in the key: value pair form. The keys are unique, and the value can be of any data type. Like the lists, dictionaries are also mutable, i.e., you can change the key-value pair after creating the dictionary.\n",
        "To create a dictionary in Python, you have to use {}. : is used to separate the key and value.\n",
        "Elements in the dictionary can be accessed by their corresponding keys\n",
        "\n",
        "A list is an ordered collection of items, whereas a dictionary is an unordered data collection in a key: value pair.\n",
        "Elements from the list can be accessed using the index, while the elements of the dictionary can be accessed using keys.\n",
        "The list allows duplicate items, while the dictionary does not allow any duplicate keys.\n",
        "A list can store any data type. In contrast, keys in the dictionary can be of any immutable data type, and values can be of any data type.\n",
        "Lists perform faster for ordered operations like sorting, while dictionaries perform faster for lookup operations"
      ],
      "metadata": {
        "id": "HBvi-xI108Y0"
      }
    }
  ]
}